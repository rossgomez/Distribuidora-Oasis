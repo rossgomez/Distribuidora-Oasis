{
  "nbformat": 4,
  "nbformat_minor": 0,
  "metadata": {
    "colab": {
      "provenance": [],
      "gpuType": "T4"
    },
    "kernelspec": {
      "name": "python3",
      "display_name": "Python 3"
    },
    "language_info": {
      "name": "python"
    },
    "accelerator": "GPU"
  },
  "cells": [
    {
      "cell_type": "markdown",
      "source": [
        "\n",
        "---\n",
        "\n",
        "#**Predicción de Demanda**\n",
        "\n",
        "---\n"
      ],
      "metadata": {
        "id": "7IO4TNdzQtXn"
      }
    },
    {
      "cell_type": "markdown",
      "source": [
        "<br><b>Negocio:</b>  <i>\"Optimización de Inventario para Minimizar Costos y Maximizar Rentabilidad\"</i> <br>\n",
        "\n",
        "**Predicción de Demanda - Estudio de una Serie Temporal**<br>\n",
        "<b>Dataset extraído de:</b> [Kaagle](https://www.kaggle.com/datasets/bhanupratapbiswas/inventory-analysis-case-study)\n",
        "<br>    \n",
        "**Introducción**\n",
        "\n",
        "A partir de los datos de las ventas del 01-01-2016 al 29-02-2016 de una empresa manufacturera dedicada a la distribución de bebidas, se realiza un Modelo Predictivo de Demanda lo cual es fundamental para optimizar la gestión de inventarios.    \n",
        "Esto permitirá mejorar los procesos de compras, previsiones y la toma de decisiones en general.    \n",
        "Los datos ya han sido recolectados, limpiados y transformados\n",
        "Se trata del estudio de una serie temporal: Veremos si se trata de una serie estacionaria o no. En caso de no serlo, haremos las transformaciones necesarias, elegiremos el modelo más apropiado, lo probaremos y ajustaremos.\n"
      ],
      "metadata": {
        "id": "HPfPd9oW_Xjg"
      }
    },
    {
      "cell_type": "markdown",
      "source": [
        "# Parte 1 - Preprocesamiento de datos"
      ],
      "metadata": {
        "id": "NvAdLi2C5zC6"
      }
    },
    {
      "cell_type": "markdown",
      "source": [
        "---\n",
        "\n",
        "\n",
        "# <h3> **1.1 Importación de Liberías** </h3>\n",
        "\n",
        "---\n"
      ],
      "metadata": {
        "id": "e5CsJceVYVK6"
      }
    },
    {
      "cell_type": "markdown",
      "source": [
        "Para llevar a cabo este proyecto, se realizan las siguientes importaciones y configuraciones iniciales que establecen el entorno para el análisis de series temporales.<br>Estas operaciones preparan las bibliotecas y configuraciones necesarias para el análisis de datos y la visualización de resultados. A lo largo del desarrollo, se importarán librerías adicionales según las necesidades de cada sección, lo que contribuirá a una mayor comprensión y claridad en el código.<br>"
      ],
      "metadata": {
        "id": "XN5MRwIJTHjh"
      }
    },
    {
      "cell_type": "code",
      "metadata": {
        "id": "NORiwS3XoruG"
      },
      "source": [
        "import numpy as np  # Importamos numpy y lo renombramos como np para operaciones numéricas eficientes.\n",
        "import matplotlib.pyplot as plt  # Librería utilizada para la creación de gráficos y visualización de datos.\n",
        "import pandas as pd  # Librería para manipulación y análisis de datos.\n"
      ],
      "execution_count": 1,
      "outputs": []
    },
    {
      "cell_type": "markdown",
      "source": [
        "---\n",
        "\n",
        "\n",
        "#<h3> **1.2 Importación de datos**</h3>\n",
        "\n",
        "---\n",
        "\n",
        "\n"
      ],
      "metadata": {
        "id": "zlO5rD6VmljU"
      }
    },
    {
      "cell_type": "markdown",
      "source": [
        "Instalamos PyDrive y configuramos los módulos para acceder a Google Drive y cargar el dataset en Colab."
      ],
      "metadata": {
        "id": "VBuSDE2sUA1s"
      }
    },
    {
      "cell_type": "markdown",
      "source": [
        "#### **1.2.1 Lectura del dataset desde la url del csv**"
      ],
      "metadata": {
        "id": "ubrbYKoUmljb"
      }
    },
    {
      "cell_type": "code",
      "source": [
        "!pip install -U -q pydrive2\n",
        "\n",
        "# Configuración de PyDrive y autenticación con Google Drive.\n",
        "from pydrive.auth import GoogleAuth\n",
        "from pydrive.drive import GoogleDrive\n",
        "from google.colab import auth\n",
        "from oauth2client.client import GoogleCredentials"
      ],
      "metadata": {
        "id": "3aAhFFW-mljc",
        "colab": {
          "base_uri": "https://localhost:8080/"
        },
        "outputId": "2186a450-3b4f-4731-d9f5-bccfc371216c"
      },
      "execution_count": 2,
      "outputs": [
        {
          "output_type": "stream",
          "name": "stdout",
          "text": [
            "\u001b[?25l     \u001b[90m━━━━━━━━━━━━━━━━━━━━━━━━━━━━━━━━━━━━━━━━\u001b[0m \u001b[32m0.0/46.7 kB\u001b[0m \u001b[31m?\u001b[0m eta \u001b[36m-:--:--\u001b[0m\r\u001b[2K     \u001b[91m━━━━━━━━━━━━━━━━━━━━━━━━━━━━━━━━━━━\u001b[0m\u001b[90m╺\u001b[0m\u001b[90m━━━━\u001b[0m \u001b[32m41.0/46.7 kB\u001b[0m \u001b[31m1.4 MB/s\u001b[0m eta \u001b[36m0:00:01\u001b[0m\r\u001b[2K     \u001b[90m━━━━━━━━━━━━━━━━━━━━━━━━━━━━━━━━━━━━━━━━\u001b[0m \u001b[32m46.7/46.7 kB\u001b[0m \u001b[31m909.0 kB/s\u001b[0m eta \u001b[36m0:00:00\u001b[0m\n",
            "\u001b[?25h"
          ]
        },
        {
          "output_type": "stream",
          "name": "stderr",
          "text": [
            "WARNING:root:pydrive is deprecated and no longer maintained. We recommend that you migrate your projects to pydrive2, the maintained fork of pydrive\n"
          ]
        }
      ]
    },
    {
      "cell_type": "code",
      "source": [
        "# Autenticación y creación del cliente de PyDrive.\n",
        "auth.authenticate_user()  # Autenticación del usuario.\n",
        "gauth = GoogleAuth()  # Inicialización de GoogleAuth.\n",
        "gauth.credentials = GoogleCredentials.get_application_default()  # Obtención de credenciales por defecto de la aplicación.\n",
        "drive = GoogleDrive(gauth)  # Creación del cliente de Google Drive."
      ],
      "metadata": {
        "id": "gZCh9TsKUdUh"
      },
      "execution_count": 3,
      "outputs": []
    },
    {
      "cell_type": "markdown",
      "source": [
        "**1.2.1 Acceso a los DataSets**"
      ],
      "metadata": {
        "id": "wejwzFw7qXmQ"
      }
    },
    {
      "cell_type": "code",
      "source": [
        "#-------------------------------------------------------------------------------\n",
        "\n",
        "# Conjunto de datos de VENTAS\n",
        "\n",
        "link = 'https://drive.google.com/file/d/1yBaHNhFdjHfWaZYsUvUgzde4B_ZV2kZp/view'\n",
        "\n",
        "# Extraer la parte de la ID del archivo del enlace\n",
        "id = link.split(\"/\")[-2]\n",
        "\n",
        "# Descargar el archivo desde Google Drive\n",
        "downloaded = drive.CreateFile({'id': id})\n",
        "downloaded.GetContentFile('VENTAS.csv')\n",
        "\n",
        "# Cargar el conjunto de datos desde el archivo CSV descargado\n",
        "ventas = pd.read_csv('VENTAS.csv', parse_dates=[\"Fecha_venta\"])\n",
        "\n",
        "#-------------------------------------------------------------------------------\n"
      ],
      "metadata": {
        "id": "FdoUSahZmljc"
      },
      "execution_count": 4,
      "outputs": []
    },
    {
      "cell_type": "markdown",
      "source": [
        "#Concepto del Modelo Predictivo de Demanda\n",
        "El objetivo del modelo es predecir la demanda futura de productos teniendo en cuenta los datos históricos de lasventas.\n",
        "\n",
        "Esto permitirá una gestión más eficiente del inventario y una planificación adecuada de reabastecimiento."
      ],
      "metadata": {
        "id": "lpv0FQjrjrw0"
      }
    },
    {
      "cell_type": "markdown",
      "source": [
        "---\n",
        "\n",
        "\n",
        "#<h3> 1.3 Previsualización de datos</h3>\n",
        "\n",
        "---"
      ],
      "metadata": {
        "id": "IoRFVT2J6Jje"
      }
    },
    {
      "cell_type": "markdown",
      "source": [
        "### 1.3.1 Visualizamos las primeras filas del conjunto de datos para entender su estructura.<br>\n",
        "Entrada: VENTAS.csv<br>\n",
        "Salida: Dataframe \"ventas\""
      ],
      "metadata": {
        "id": "nA6KNY-x6UlA"
      }
    },
    {
      "cell_type": "code",
      "source": [
        "ventas.head()"
      ],
      "metadata": {
        "colab": {
          "base_uri": "https://localhost:8080/",
          "height": 293
        },
        "id": "ogsiGcre6hre",
        "outputId": "1891f6ba-9dad-442f-f958-06808a1f13b8"
      },
      "execution_count": 5,
      "outputs": [
        {
          "output_type": "execute_result",
          "data": {
            "text/plain": [
              "   VentaID Fecha_venta         InventarioId  Tienda  ProductoID  \\\n",
              "0        0  2016-01-01  1_HARDERSFIELD_1004       1        1004   \n",
              "1        1  2016-01-02  1_HARDERSFIELD_1004       1        1004   \n",
              "2        2  2016-01-03  1_HARDERSFIELD_1004       1        1004   \n",
              "3        3  2016-01-08  1_HARDERSFIELD_1004       1        1004   \n",
              "4        4  2016-01-09  1_HARDERSFIELD_1005       1        1005   \n",
              "\n",
              "                  Descripcion      Tamaño  Volumen  Clasificacion  \\\n",
              "0  Jim Beam w/2 Rocks Glasses       750mL      750              1   \n",
              "1  Jim Beam w/2 Rocks Glasses       750mL      750              1   \n",
              "2  Jim Beam w/2 Rocks Glasses       750mL      750              1   \n",
              "3  Jim Beam w/2 Rocks Glasses       750mL      750              1   \n",
              "4     Maker's Mark Combo Pack  375mL 2 Pk      375              1   \n",
              "\n",
              "   ProveedorID                    Proveedor  Precio_venta  Cantidad  \\\n",
              "0        12546  JIM BEAM BRANDS COMPANY             16.49         1   \n",
              "1        12546  JIM BEAM BRANDS COMPANY             16.49         2   \n",
              "2        12546  JIM BEAM BRANDS COMPANY             16.49         1   \n",
              "3        12546  JIM BEAM BRANDS COMPANY             14.49         1   \n",
              "4        12546  JIM BEAM BRANDS COMPANY             34.99         2   \n",
              "\n",
              "   Precio_total  Impuesto   Año  Mes  Dia  \n",
              "0         16.49      0.79  2016    1    1  \n",
              "1         32.98      1.57  2016    1    2  \n",
              "2         16.49      0.79  2016    1    3  \n",
              "3         14.49      0.79  2016    1    8  \n",
              "4         69.98      0.79  2016    1    9  "
            ],
            "text/html": [
              "\n",
              "  <div id=\"df-c01cb3a3-b128-4b35-8f70-abd7e3b50a8f\" class=\"colab-df-container\">\n",
              "    <div>\n",
              "<style scoped>\n",
              "    .dataframe tbody tr th:only-of-type {\n",
              "        vertical-align: middle;\n",
              "    }\n",
              "\n",
              "    .dataframe tbody tr th {\n",
              "        vertical-align: top;\n",
              "    }\n",
              "\n",
              "    .dataframe thead th {\n",
              "        text-align: right;\n",
              "    }\n",
              "</style>\n",
              "<table border=\"1\" class=\"dataframe\">\n",
              "  <thead>\n",
              "    <tr style=\"text-align: right;\">\n",
              "      <th></th>\n",
              "      <th>VentaID</th>\n",
              "      <th>Fecha_venta</th>\n",
              "      <th>InventarioId</th>\n",
              "      <th>Tienda</th>\n",
              "      <th>ProductoID</th>\n",
              "      <th>Descripcion</th>\n",
              "      <th>Tamaño</th>\n",
              "      <th>Volumen</th>\n",
              "      <th>Clasificacion</th>\n",
              "      <th>ProveedorID</th>\n",
              "      <th>Proveedor</th>\n",
              "      <th>Precio_venta</th>\n",
              "      <th>Cantidad</th>\n",
              "      <th>Precio_total</th>\n",
              "      <th>Impuesto</th>\n",
              "      <th>Año</th>\n",
              "      <th>Mes</th>\n",
              "      <th>Dia</th>\n",
              "    </tr>\n",
              "  </thead>\n",
              "  <tbody>\n",
              "    <tr>\n",
              "      <th>0</th>\n",
              "      <td>0</td>\n",
              "      <td>2016-01-01</td>\n",
              "      <td>1_HARDERSFIELD_1004</td>\n",
              "      <td>1</td>\n",
              "      <td>1004</td>\n",
              "      <td>Jim Beam w/2 Rocks Glasses</td>\n",
              "      <td>750mL</td>\n",
              "      <td>750</td>\n",
              "      <td>1</td>\n",
              "      <td>12546</td>\n",
              "      <td>JIM BEAM BRANDS COMPANY</td>\n",
              "      <td>16.49</td>\n",
              "      <td>1</td>\n",
              "      <td>16.49</td>\n",
              "      <td>0.79</td>\n",
              "      <td>2016</td>\n",
              "      <td>1</td>\n",
              "      <td>1</td>\n",
              "    </tr>\n",
              "    <tr>\n",
              "      <th>1</th>\n",
              "      <td>1</td>\n",
              "      <td>2016-01-02</td>\n",
              "      <td>1_HARDERSFIELD_1004</td>\n",
              "      <td>1</td>\n",
              "      <td>1004</td>\n",
              "      <td>Jim Beam w/2 Rocks Glasses</td>\n",
              "      <td>750mL</td>\n",
              "      <td>750</td>\n",
              "      <td>1</td>\n",
              "      <td>12546</td>\n",
              "      <td>JIM BEAM BRANDS COMPANY</td>\n",
              "      <td>16.49</td>\n",
              "      <td>2</td>\n",
              "      <td>32.98</td>\n",
              "      <td>1.57</td>\n",
              "      <td>2016</td>\n",
              "      <td>1</td>\n",
              "      <td>2</td>\n",
              "    </tr>\n",
              "    <tr>\n",
              "      <th>2</th>\n",
              "      <td>2</td>\n",
              "      <td>2016-01-03</td>\n",
              "      <td>1_HARDERSFIELD_1004</td>\n",
              "      <td>1</td>\n",
              "      <td>1004</td>\n",
              "      <td>Jim Beam w/2 Rocks Glasses</td>\n",
              "      <td>750mL</td>\n",
              "      <td>750</td>\n",
              "      <td>1</td>\n",
              "      <td>12546</td>\n",
              "      <td>JIM BEAM BRANDS COMPANY</td>\n",
              "      <td>16.49</td>\n",
              "      <td>1</td>\n",
              "      <td>16.49</td>\n",
              "      <td>0.79</td>\n",
              "      <td>2016</td>\n",
              "      <td>1</td>\n",
              "      <td>3</td>\n",
              "    </tr>\n",
              "    <tr>\n",
              "      <th>3</th>\n",
              "      <td>3</td>\n",
              "      <td>2016-01-08</td>\n",
              "      <td>1_HARDERSFIELD_1004</td>\n",
              "      <td>1</td>\n",
              "      <td>1004</td>\n",
              "      <td>Jim Beam w/2 Rocks Glasses</td>\n",
              "      <td>750mL</td>\n",
              "      <td>750</td>\n",
              "      <td>1</td>\n",
              "      <td>12546</td>\n",
              "      <td>JIM BEAM BRANDS COMPANY</td>\n",
              "      <td>14.49</td>\n",
              "      <td>1</td>\n",
              "      <td>14.49</td>\n",
              "      <td>0.79</td>\n",
              "      <td>2016</td>\n",
              "      <td>1</td>\n",
              "      <td>8</td>\n",
              "    </tr>\n",
              "    <tr>\n",
              "      <th>4</th>\n",
              "      <td>4</td>\n",
              "      <td>2016-01-09</td>\n",
              "      <td>1_HARDERSFIELD_1005</td>\n",
              "      <td>1</td>\n",
              "      <td>1005</td>\n",
              "      <td>Maker's Mark Combo Pack</td>\n",
              "      <td>375mL 2 Pk</td>\n",
              "      <td>375</td>\n",
              "      <td>1</td>\n",
              "      <td>12546</td>\n",
              "      <td>JIM BEAM BRANDS COMPANY</td>\n",
              "      <td>34.99</td>\n",
              "      <td>2</td>\n",
              "      <td>69.98</td>\n",
              "      <td>0.79</td>\n",
              "      <td>2016</td>\n",
              "      <td>1</td>\n",
              "      <td>9</td>\n",
              "    </tr>\n",
              "  </tbody>\n",
              "</table>\n",
              "</div>\n",
              "    <div class=\"colab-df-buttons\">\n",
              "\n",
              "  <div class=\"colab-df-container\">\n",
              "    <button class=\"colab-df-convert\" onclick=\"convertToInteractive('df-c01cb3a3-b128-4b35-8f70-abd7e3b50a8f')\"\n",
              "            title=\"Convert this dataframe to an interactive table.\"\n",
              "            style=\"display:none;\">\n",
              "\n",
              "  <svg xmlns=\"http://www.w3.org/2000/svg\" height=\"24px\" viewBox=\"0 -960 960 960\">\n",
              "    <path d=\"M120-120v-720h720v720H120Zm60-500h600v-160H180v160Zm220 220h160v-160H400v160Zm0 220h160v-160H400v160ZM180-400h160v-160H180v160Zm440 0h160v-160H620v160ZM180-180h160v-160H180v160Zm440 0h160v-160H620v160Z\"/>\n",
              "  </svg>\n",
              "    </button>\n",
              "\n",
              "  <style>\n",
              "    .colab-df-container {\n",
              "      display:flex;\n",
              "      gap: 12px;\n",
              "    }\n",
              "\n",
              "    .colab-df-convert {\n",
              "      background-color: #E8F0FE;\n",
              "      border: none;\n",
              "      border-radius: 50%;\n",
              "      cursor: pointer;\n",
              "      display: none;\n",
              "      fill: #1967D2;\n",
              "      height: 32px;\n",
              "      padding: 0 0 0 0;\n",
              "      width: 32px;\n",
              "    }\n",
              "\n",
              "    .colab-df-convert:hover {\n",
              "      background-color: #E2EBFA;\n",
              "      box-shadow: 0px 1px 2px rgba(60, 64, 67, 0.3), 0px 1px 3px 1px rgba(60, 64, 67, 0.15);\n",
              "      fill: #174EA6;\n",
              "    }\n",
              "\n",
              "    .colab-df-buttons div {\n",
              "      margin-bottom: 4px;\n",
              "    }\n",
              "\n",
              "    [theme=dark] .colab-df-convert {\n",
              "      background-color: #3B4455;\n",
              "      fill: #D2E3FC;\n",
              "    }\n",
              "\n",
              "    [theme=dark] .colab-df-convert:hover {\n",
              "      background-color: #434B5C;\n",
              "      box-shadow: 0px 1px 3px 1px rgba(0, 0, 0, 0.15);\n",
              "      filter: drop-shadow(0px 1px 2px rgba(0, 0, 0, 0.3));\n",
              "      fill: #FFFFFF;\n",
              "    }\n",
              "  </style>\n",
              "\n",
              "    <script>\n",
              "      const buttonEl =\n",
              "        document.querySelector('#df-c01cb3a3-b128-4b35-8f70-abd7e3b50a8f button.colab-df-convert');\n",
              "      buttonEl.style.display =\n",
              "        google.colab.kernel.accessAllowed ? 'block' : 'none';\n",
              "\n",
              "      async function convertToInteractive(key) {\n",
              "        const element = document.querySelector('#df-c01cb3a3-b128-4b35-8f70-abd7e3b50a8f');\n",
              "        const dataTable =\n",
              "          await google.colab.kernel.invokeFunction('convertToInteractive',\n",
              "                                                    [key], {});\n",
              "        if (!dataTable) return;\n",
              "\n",
              "        const docLinkHtml = 'Like what you see? Visit the ' +\n",
              "          '<a target=\"_blank\" href=https://colab.research.google.com/notebooks/data_table.ipynb>data table notebook</a>'\n",
              "          + ' to learn more about interactive tables.';\n",
              "        element.innerHTML = '';\n",
              "        dataTable['output_type'] = 'display_data';\n",
              "        await google.colab.output.renderOutput(dataTable, element);\n",
              "        const docLink = document.createElement('div');\n",
              "        docLink.innerHTML = docLinkHtml;\n",
              "        element.appendChild(docLink);\n",
              "      }\n",
              "    </script>\n",
              "  </div>\n",
              "\n",
              "\n",
              "<div id=\"df-16b63dac-dae1-4075-b3bd-1935b27d54c7\">\n",
              "  <button class=\"colab-df-quickchart\" onclick=\"quickchart('df-16b63dac-dae1-4075-b3bd-1935b27d54c7')\"\n",
              "            title=\"Suggest charts\"\n",
              "            style=\"display:none;\">\n",
              "\n",
              "<svg xmlns=\"http://www.w3.org/2000/svg\" height=\"24px\"viewBox=\"0 0 24 24\"\n",
              "     width=\"24px\">\n",
              "    <g>\n",
              "        <path d=\"M19 3H5c-1.1 0-2 .9-2 2v14c0 1.1.9 2 2 2h14c1.1 0 2-.9 2-2V5c0-1.1-.9-2-2-2zM9 17H7v-7h2v7zm4 0h-2V7h2v10zm4 0h-2v-4h2v4z\"/>\n",
              "    </g>\n",
              "</svg>\n",
              "  </button>\n",
              "\n",
              "<style>\n",
              "  .colab-df-quickchart {\n",
              "      --bg-color: #E8F0FE;\n",
              "      --fill-color: #1967D2;\n",
              "      --hover-bg-color: #E2EBFA;\n",
              "      --hover-fill-color: #174EA6;\n",
              "      --disabled-fill-color: #AAA;\n",
              "      --disabled-bg-color: #DDD;\n",
              "  }\n",
              "\n",
              "  [theme=dark] .colab-df-quickchart {\n",
              "      --bg-color: #3B4455;\n",
              "      --fill-color: #D2E3FC;\n",
              "      --hover-bg-color: #434B5C;\n",
              "      --hover-fill-color: #FFFFFF;\n",
              "      --disabled-bg-color: #3B4455;\n",
              "      --disabled-fill-color: #666;\n",
              "  }\n",
              "\n",
              "  .colab-df-quickchart {\n",
              "    background-color: var(--bg-color);\n",
              "    border: none;\n",
              "    border-radius: 50%;\n",
              "    cursor: pointer;\n",
              "    display: none;\n",
              "    fill: var(--fill-color);\n",
              "    height: 32px;\n",
              "    padding: 0;\n",
              "    width: 32px;\n",
              "  }\n",
              "\n",
              "  .colab-df-quickchart:hover {\n",
              "    background-color: var(--hover-bg-color);\n",
              "    box-shadow: 0 1px 2px rgba(60, 64, 67, 0.3), 0 1px 3px 1px rgba(60, 64, 67, 0.15);\n",
              "    fill: var(--button-hover-fill-color);\n",
              "  }\n",
              "\n",
              "  .colab-df-quickchart-complete:disabled,\n",
              "  .colab-df-quickchart-complete:disabled:hover {\n",
              "    background-color: var(--disabled-bg-color);\n",
              "    fill: var(--disabled-fill-color);\n",
              "    box-shadow: none;\n",
              "  }\n",
              "\n",
              "  .colab-df-spinner {\n",
              "    border: 2px solid var(--fill-color);\n",
              "    border-color: transparent;\n",
              "    border-bottom-color: var(--fill-color);\n",
              "    animation:\n",
              "      spin 1s steps(1) infinite;\n",
              "  }\n",
              "\n",
              "  @keyframes spin {\n",
              "    0% {\n",
              "      border-color: transparent;\n",
              "      border-bottom-color: var(--fill-color);\n",
              "      border-left-color: var(--fill-color);\n",
              "    }\n",
              "    20% {\n",
              "      border-color: transparent;\n",
              "      border-left-color: var(--fill-color);\n",
              "      border-top-color: var(--fill-color);\n",
              "    }\n",
              "    30% {\n",
              "      border-color: transparent;\n",
              "      border-left-color: var(--fill-color);\n",
              "      border-top-color: var(--fill-color);\n",
              "      border-right-color: var(--fill-color);\n",
              "    }\n",
              "    40% {\n",
              "      border-color: transparent;\n",
              "      border-right-color: var(--fill-color);\n",
              "      border-top-color: var(--fill-color);\n",
              "    }\n",
              "    60% {\n",
              "      border-color: transparent;\n",
              "      border-right-color: var(--fill-color);\n",
              "    }\n",
              "    80% {\n",
              "      border-color: transparent;\n",
              "      border-right-color: var(--fill-color);\n",
              "      border-bottom-color: var(--fill-color);\n",
              "    }\n",
              "    90% {\n",
              "      border-color: transparent;\n",
              "      border-bottom-color: var(--fill-color);\n",
              "    }\n",
              "  }\n",
              "</style>\n",
              "\n",
              "  <script>\n",
              "    async function quickchart(key) {\n",
              "      const quickchartButtonEl =\n",
              "        document.querySelector('#' + key + ' button');\n",
              "      quickchartButtonEl.disabled = true;  // To prevent multiple clicks.\n",
              "      quickchartButtonEl.classList.add('colab-df-spinner');\n",
              "      try {\n",
              "        const charts = await google.colab.kernel.invokeFunction(\n",
              "            'suggestCharts', [key], {});\n",
              "      } catch (error) {\n",
              "        console.error('Error during call to suggestCharts:', error);\n",
              "      }\n",
              "      quickchartButtonEl.classList.remove('colab-df-spinner');\n",
              "      quickchartButtonEl.classList.add('colab-df-quickchart-complete');\n",
              "    }\n",
              "    (() => {\n",
              "      let quickchartButtonEl =\n",
              "        document.querySelector('#df-16b63dac-dae1-4075-b3bd-1935b27d54c7 button');\n",
              "      quickchartButtonEl.style.display =\n",
              "        google.colab.kernel.accessAllowed ? 'block' : 'none';\n",
              "    })();\n",
              "  </script>\n",
              "</div>\n",
              "\n",
              "    </div>\n",
              "  </div>\n"
            ],
            "application/vnd.google.colaboratory.intrinsic+json": {
              "type": "dataframe",
              "variable_name": "ventas"
            }
          },
          "metadata": {},
          "execution_count": 5
        }
      ]
    },
    {
      "cell_type": "markdown",
      "source": [
        "Entrada: ventas.info() Información general del conjunto de datos.<br>\n",
        "Salida: Resumen de información sobre el conjunto de datos, incluyendo tipos de datos, valores no nulos y uso de memoria<br>"
      ],
      "metadata": {
        "id": "Q8VIqTS66zvH"
      }
    },
    {
      "cell_type": "code",
      "source": [
        "ventas.info()"
      ],
      "metadata": {
        "colab": {
          "base_uri": "https://localhost:8080/"
        },
        "id": "h0ZX7R2n651b",
        "outputId": "0668efa9-c3a9-4119-eda1-c0c4d5da2e9b"
      },
      "execution_count": 6,
      "outputs": [
        {
          "output_type": "stream",
          "name": "stdout",
          "text": [
            "<class 'pandas.core.frame.DataFrame'>\n",
            "RangeIndex: 1048575 entries, 0 to 1048574\n",
            "Data columns (total 18 columns):\n",
            " #   Column         Non-Null Count    Dtype         \n",
            "---  ------         --------------    -----         \n",
            " 0   VentaID        1048575 non-null  int64         \n",
            " 1   Fecha_venta    1048575 non-null  datetime64[ns]\n",
            " 2   InventarioId   1048575 non-null  object        \n",
            " 3   Tienda         1048575 non-null  int64         \n",
            " 4   ProductoID     1048575 non-null  int64         \n",
            " 5   Descripcion    1048575 non-null  object        \n",
            " 6   Tamaño         1048575 non-null  object        \n",
            " 7   Volumen        1048575 non-null  int64         \n",
            " 8   Clasificacion  1048575 non-null  int64         \n",
            " 9   ProveedorID    1048575 non-null  int64         \n",
            " 10  Proveedor      1048575 non-null  object        \n",
            " 11  Precio_venta   1048575 non-null  float64       \n",
            " 12  Cantidad       1048575 non-null  int64         \n",
            " 13  Precio_total   1048575 non-null  float64       \n",
            " 14  Impuesto       1048575 non-null  float64       \n",
            " 15  Año            1048575 non-null  int64         \n",
            " 16  Mes            1048575 non-null  int64         \n",
            " 17  Dia            1048575 non-null  int64         \n",
            "dtypes: datetime64[ns](1), float64(3), int64(10), object(4)\n",
            "memory usage: 144.0+ MB\n"
          ]
        }
      ]
    },
    {
      "cell_type": "markdown",
      "source": [
        "Entrada: ventas.describe() Estadísticas descriptivas del conjunto de datos<br>\n",
        "Salida: Resumen de estadísticas descriptivas, como recuento, media, desviación estándar, mínimo, percentiles y máximo<br>"
      ],
      "metadata": {
        "id": "T8GNgRaT68pT"
      }
    },
    {
      "cell_type": "code",
      "source": [
        "ventas.describe()"
      ],
      "metadata": {
        "colab": {
          "base_uri": "https://localhost:8080/",
          "height": 300
        },
        "id": "1B4tnNS47DYV",
        "outputId": "46c591a8-0d9d-4144-fcc7-ccaacebf99ae"
      },
      "execution_count": 7,
      "outputs": [
        {
          "output_type": "execute_result",
          "data": {
            "text/plain": [
              "            VentaID                    Fecha_venta        Tienda  \\\n",
              "count  1.048575e+06                        1048575  1.048575e+06   \n",
              "mean   5.242870e+05  2016-01-19 21:59:18.574636288  4.008063e+01   \n",
              "min    0.000000e+00            2016-01-01 00:00:00  1.000000e+00   \n",
              "25%    2.621435e+05            2016-01-10 00:00:00  1.500000e+01   \n",
              "50%    5.242870e+05            2016-01-19 00:00:00  3.900000e+01   \n",
              "75%    7.864305e+05            2016-01-28 00:00:00  6.400000e+01   \n",
              "max    1.048574e+06            2016-02-29 00:00:00  7.900000e+01   \n",
              "std    3.026977e+05                            NaN  2.435739e+01   \n",
              "\n",
              "         ProductoID       Volumen  Clasificacion   ProveedorID  Precio_venta  \\\n",
              "count  1.048575e+06  1.048575e+06   1.048575e+06  1.048575e+06  1.048575e+06   \n",
              "mean   1.216959e+04  9.500280e+02   1.416550e+00  6.995043e+03  1.543162e+01   \n",
              "min    5.800000e+01  5.000000e+01   1.000000e+00  2.000000e+00  4.900000e-01   \n",
              "25%    3.680000e+03  7.500000e+02   1.000000e+00  3.252000e+03  8.990000e+00   \n",
              "50%    6.296000e+03  7.500000e+02   1.000000e+00  4.425000e+03  1.299000e+01   \n",
              "75%    1.795400e+04  1.500000e+03   2.000000e+00  9.552000e+03  1.899000e+01   \n",
              "max    9.008900e+04  2.000000e+04   2.000000e+00  1.733570e+05  4.999990e+03   \n",
              "std    1.241921e+04  7.142708e+02   4.929872e-01  8.426736e+03  1.404967e+01   \n",
              "\n",
              "           Cantidad  Precio_total      Impuesto        Año           Mes  \\\n",
              "count  1.048575e+06  1.048575e+06  1.048575e+06  1048575.0  1.048575e+06   \n",
              "mean   2.337619e+00  3.160420e+01  1.326847e+00     2016.0  1.105838e+00   \n",
              "min    1.000000e+00  4.900000e-01  1.000000e-02     2016.0  1.000000e+00   \n",
              "25%    1.000000e+00  1.099000e+01  1.600000e-01     2016.0  1.000000e+00   \n",
              "50%    1.000000e+00  1.799000e+01  6.800000e-01     2016.0  1.000000e+00   \n",
              "75%    2.000000e+00  3.199000e+01  1.570000e+00     2016.0  1.000000e+00   \n",
              "max    4.320000e+02  1.327997e+04  3.785200e+02     2016.0  2.000000e+00   \n",
              "std    3.511492e+00  6.570249e+01  3.407898e+00        0.0  3.076302e-01   \n",
              "\n",
              "                Dia  \n",
              "count  1.048575e+06  \n",
              "mean   1.663521e+01  \n",
              "min    1.000000e+00  \n",
              "25%    9.000000e+00  \n",
              "50%    1.600000e+01  \n",
              "75%    2.400000e+01  \n",
              "max    3.100000e+01  \n",
              "std    8.941159e+00  "
            ],
            "text/html": [
              "\n",
              "  <div id=\"df-58452cb7-9f83-433b-b83d-0d9c524e3b0a\" class=\"colab-df-container\">\n",
              "    <div>\n",
              "<style scoped>\n",
              "    .dataframe tbody tr th:only-of-type {\n",
              "        vertical-align: middle;\n",
              "    }\n",
              "\n",
              "    .dataframe tbody tr th {\n",
              "        vertical-align: top;\n",
              "    }\n",
              "\n",
              "    .dataframe thead th {\n",
              "        text-align: right;\n",
              "    }\n",
              "</style>\n",
              "<table border=\"1\" class=\"dataframe\">\n",
              "  <thead>\n",
              "    <tr style=\"text-align: right;\">\n",
              "      <th></th>\n",
              "      <th>VentaID</th>\n",
              "      <th>Fecha_venta</th>\n",
              "      <th>Tienda</th>\n",
              "      <th>ProductoID</th>\n",
              "      <th>Volumen</th>\n",
              "      <th>Clasificacion</th>\n",
              "      <th>ProveedorID</th>\n",
              "      <th>Precio_venta</th>\n",
              "      <th>Cantidad</th>\n",
              "      <th>Precio_total</th>\n",
              "      <th>Impuesto</th>\n",
              "      <th>Año</th>\n",
              "      <th>Mes</th>\n",
              "      <th>Dia</th>\n",
              "    </tr>\n",
              "  </thead>\n",
              "  <tbody>\n",
              "    <tr>\n",
              "      <th>count</th>\n",
              "      <td>1.048575e+06</td>\n",
              "      <td>1048575</td>\n",
              "      <td>1.048575e+06</td>\n",
              "      <td>1.048575e+06</td>\n",
              "      <td>1.048575e+06</td>\n",
              "      <td>1.048575e+06</td>\n",
              "      <td>1.048575e+06</td>\n",
              "      <td>1.048575e+06</td>\n",
              "      <td>1.048575e+06</td>\n",
              "      <td>1.048575e+06</td>\n",
              "      <td>1.048575e+06</td>\n",
              "      <td>1048575.0</td>\n",
              "      <td>1.048575e+06</td>\n",
              "      <td>1.048575e+06</td>\n",
              "    </tr>\n",
              "    <tr>\n",
              "      <th>mean</th>\n",
              "      <td>5.242870e+05</td>\n",
              "      <td>2016-01-19 21:59:18.574636288</td>\n",
              "      <td>4.008063e+01</td>\n",
              "      <td>1.216959e+04</td>\n",
              "      <td>9.500280e+02</td>\n",
              "      <td>1.416550e+00</td>\n",
              "      <td>6.995043e+03</td>\n",
              "      <td>1.543162e+01</td>\n",
              "      <td>2.337619e+00</td>\n",
              "      <td>3.160420e+01</td>\n",
              "      <td>1.326847e+00</td>\n",
              "      <td>2016.0</td>\n",
              "      <td>1.105838e+00</td>\n",
              "      <td>1.663521e+01</td>\n",
              "    </tr>\n",
              "    <tr>\n",
              "      <th>min</th>\n",
              "      <td>0.000000e+00</td>\n",
              "      <td>2016-01-01 00:00:00</td>\n",
              "      <td>1.000000e+00</td>\n",
              "      <td>5.800000e+01</td>\n",
              "      <td>5.000000e+01</td>\n",
              "      <td>1.000000e+00</td>\n",
              "      <td>2.000000e+00</td>\n",
              "      <td>4.900000e-01</td>\n",
              "      <td>1.000000e+00</td>\n",
              "      <td>4.900000e-01</td>\n",
              "      <td>1.000000e-02</td>\n",
              "      <td>2016.0</td>\n",
              "      <td>1.000000e+00</td>\n",
              "      <td>1.000000e+00</td>\n",
              "    </tr>\n",
              "    <tr>\n",
              "      <th>25%</th>\n",
              "      <td>2.621435e+05</td>\n",
              "      <td>2016-01-10 00:00:00</td>\n",
              "      <td>1.500000e+01</td>\n",
              "      <td>3.680000e+03</td>\n",
              "      <td>7.500000e+02</td>\n",
              "      <td>1.000000e+00</td>\n",
              "      <td>3.252000e+03</td>\n",
              "      <td>8.990000e+00</td>\n",
              "      <td>1.000000e+00</td>\n",
              "      <td>1.099000e+01</td>\n",
              "      <td>1.600000e-01</td>\n",
              "      <td>2016.0</td>\n",
              "      <td>1.000000e+00</td>\n",
              "      <td>9.000000e+00</td>\n",
              "    </tr>\n",
              "    <tr>\n",
              "      <th>50%</th>\n",
              "      <td>5.242870e+05</td>\n",
              "      <td>2016-01-19 00:00:00</td>\n",
              "      <td>3.900000e+01</td>\n",
              "      <td>6.296000e+03</td>\n",
              "      <td>7.500000e+02</td>\n",
              "      <td>1.000000e+00</td>\n",
              "      <td>4.425000e+03</td>\n",
              "      <td>1.299000e+01</td>\n",
              "      <td>1.000000e+00</td>\n",
              "      <td>1.799000e+01</td>\n",
              "      <td>6.800000e-01</td>\n",
              "      <td>2016.0</td>\n",
              "      <td>1.000000e+00</td>\n",
              "      <td>1.600000e+01</td>\n",
              "    </tr>\n",
              "    <tr>\n",
              "      <th>75%</th>\n",
              "      <td>7.864305e+05</td>\n",
              "      <td>2016-01-28 00:00:00</td>\n",
              "      <td>6.400000e+01</td>\n",
              "      <td>1.795400e+04</td>\n",
              "      <td>1.500000e+03</td>\n",
              "      <td>2.000000e+00</td>\n",
              "      <td>9.552000e+03</td>\n",
              "      <td>1.899000e+01</td>\n",
              "      <td>2.000000e+00</td>\n",
              "      <td>3.199000e+01</td>\n",
              "      <td>1.570000e+00</td>\n",
              "      <td>2016.0</td>\n",
              "      <td>1.000000e+00</td>\n",
              "      <td>2.400000e+01</td>\n",
              "    </tr>\n",
              "    <tr>\n",
              "      <th>max</th>\n",
              "      <td>1.048574e+06</td>\n",
              "      <td>2016-02-29 00:00:00</td>\n",
              "      <td>7.900000e+01</td>\n",
              "      <td>9.008900e+04</td>\n",
              "      <td>2.000000e+04</td>\n",
              "      <td>2.000000e+00</td>\n",
              "      <td>1.733570e+05</td>\n",
              "      <td>4.999990e+03</td>\n",
              "      <td>4.320000e+02</td>\n",
              "      <td>1.327997e+04</td>\n",
              "      <td>3.785200e+02</td>\n",
              "      <td>2016.0</td>\n",
              "      <td>2.000000e+00</td>\n",
              "      <td>3.100000e+01</td>\n",
              "    </tr>\n",
              "    <tr>\n",
              "      <th>std</th>\n",
              "      <td>3.026977e+05</td>\n",
              "      <td>NaN</td>\n",
              "      <td>2.435739e+01</td>\n",
              "      <td>1.241921e+04</td>\n",
              "      <td>7.142708e+02</td>\n",
              "      <td>4.929872e-01</td>\n",
              "      <td>8.426736e+03</td>\n",
              "      <td>1.404967e+01</td>\n",
              "      <td>3.511492e+00</td>\n",
              "      <td>6.570249e+01</td>\n",
              "      <td>3.407898e+00</td>\n",
              "      <td>0.0</td>\n",
              "      <td>3.076302e-01</td>\n",
              "      <td>8.941159e+00</td>\n",
              "    </tr>\n",
              "  </tbody>\n",
              "</table>\n",
              "</div>\n",
              "    <div class=\"colab-df-buttons\">\n",
              "\n",
              "  <div class=\"colab-df-container\">\n",
              "    <button class=\"colab-df-convert\" onclick=\"convertToInteractive('df-58452cb7-9f83-433b-b83d-0d9c524e3b0a')\"\n",
              "            title=\"Convert this dataframe to an interactive table.\"\n",
              "            style=\"display:none;\">\n",
              "\n",
              "  <svg xmlns=\"http://www.w3.org/2000/svg\" height=\"24px\" viewBox=\"0 -960 960 960\">\n",
              "    <path d=\"M120-120v-720h720v720H120Zm60-500h600v-160H180v160Zm220 220h160v-160H400v160Zm0 220h160v-160H400v160ZM180-400h160v-160H180v160Zm440 0h160v-160H620v160ZM180-180h160v-160H180v160Zm440 0h160v-160H620v160Z\"/>\n",
              "  </svg>\n",
              "    </button>\n",
              "\n",
              "  <style>\n",
              "    .colab-df-container {\n",
              "      display:flex;\n",
              "      gap: 12px;\n",
              "    }\n",
              "\n",
              "    .colab-df-convert {\n",
              "      background-color: #E8F0FE;\n",
              "      border: none;\n",
              "      border-radius: 50%;\n",
              "      cursor: pointer;\n",
              "      display: none;\n",
              "      fill: #1967D2;\n",
              "      height: 32px;\n",
              "      padding: 0 0 0 0;\n",
              "      width: 32px;\n",
              "    }\n",
              "\n",
              "    .colab-df-convert:hover {\n",
              "      background-color: #E2EBFA;\n",
              "      box-shadow: 0px 1px 2px rgba(60, 64, 67, 0.3), 0px 1px 3px 1px rgba(60, 64, 67, 0.15);\n",
              "      fill: #174EA6;\n",
              "    }\n",
              "\n",
              "    .colab-df-buttons div {\n",
              "      margin-bottom: 4px;\n",
              "    }\n",
              "\n",
              "    [theme=dark] .colab-df-convert {\n",
              "      background-color: #3B4455;\n",
              "      fill: #D2E3FC;\n",
              "    }\n",
              "\n",
              "    [theme=dark] .colab-df-convert:hover {\n",
              "      background-color: #434B5C;\n",
              "      box-shadow: 0px 1px 3px 1px rgba(0, 0, 0, 0.15);\n",
              "      filter: drop-shadow(0px 1px 2px rgba(0, 0, 0, 0.3));\n",
              "      fill: #FFFFFF;\n",
              "    }\n",
              "  </style>\n",
              "\n",
              "    <script>\n",
              "      const buttonEl =\n",
              "        document.querySelector('#df-58452cb7-9f83-433b-b83d-0d9c524e3b0a button.colab-df-convert');\n",
              "      buttonEl.style.display =\n",
              "        google.colab.kernel.accessAllowed ? 'block' : 'none';\n",
              "\n",
              "      async function convertToInteractive(key) {\n",
              "        const element = document.querySelector('#df-58452cb7-9f83-433b-b83d-0d9c524e3b0a');\n",
              "        const dataTable =\n",
              "          await google.colab.kernel.invokeFunction('convertToInteractive',\n",
              "                                                    [key], {});\n",
              "        if (!dataTable) return;\n",
              "\n",
              "        const docLinkHtml = 'Like what you see? Visit the ' +\n",
              "          '<a target=\"_blank\" href=https://colab.research.google.com/notebooks/data_table.ipynb>data table notebook</a>'\n",
              "          + ' to learn more about interactive tables.';\n",
              "        element.innerHTML = '';\n",
              "        dataTable['output_type'] = 'display_data';\n",
              "        await google.colab.output.renderOutput(dataTable, element);\n",
              "        const docLink = document.createElement('div');\n",
              "        docLink.innerHTML = docLinkHtml;\n",
              "        element.appendChild(docLink);\n",
              "      }\n",
              "    </script>\n",
              "  </div>\n",
              "\n",
              "\n",
              "<div id=\"df-4f194f89-22ff-411a-907b-e42703ebb381\">\n",
              "  <button class=\"colab-df-quickchart\" onclick=\"quickchart('df-4f194f89-22ff-411a-907b-e42703ebb381')\"\n",
              "            title=\"Suggest charts\"\n",
              "            style=\"display:none;\">\n",
              "\n",
              "<svg xmlns=\"http://www.w3.org/2000/svg\" height=\"24px\"viewBox=\"0 0 24 24\"\n",
              "     width=\"24px\">\n",
              "    <g>\n",
              "        <path d=\"M19 3H5c-1.1 0-2 .9-2 2v14c0 1.1.9 2 2 2h14c1.1 0 2-.9 2-2V5c0-1.1-.9-2-2-2zM9 17H7v-7h2v7zm4 0h-2V7h2v10zm4 0h-2v-4h2v4z\"/>\n",
              "    </g>\n",
              "</svg>\n",
              "  </button>\n",
              "\n",
              "<style>\n",
              "  .colab-df-quickchart {\n",
              "      --bg-color: #E8F0FE;\n",
              "      --fill-color: #1967D2;\n",
              "      --hover-bg-color: #E2EBFA;\n",
              "      --hover-fill-color: #174EA6;\n",
              "      --disabled-fill-color: #AAA;\n",
              "      --disabled-bg-color: #DDD;\n",
              "  }\n",
              "\n",
              "  [theme=dark] .colab-df-quickchart {\n",
              "      --bg-color: #3B4455;\n",
              "      --fill-color: #D2E3FC;\n",
              "      --hover-bg-color: #434B5C;\n",
              "      --hover-fill-color: #FFFFFF;\n",
              "      --disabled-bg-color: #3B4455;\n",
              "      --disabled-fill-color: #666;\n",
              "  }\n",
              "\n",
              "  .colab-df-quickchart {\n",
              "    background-color: var(--bg-color);\n",
              "    border: none;\n",
              "    border-radius: 50%;\n",
              "    cursor: pointer;\n",
              "    display: none;\n",
              "    fill: var(--fill-color);\n",
              "    height: 32px;\n",
              "    padding: 0;\n",
              "    width: 32px;\n",
              "  }\n",
              "\n",
              "  .colab-df-quickchart:hover {\n",
              "    background-color: var(--hover-bg-color);\n",
              "    box-shadow: 0 1px 2px rgba(60, 64, 67, 0.3), 0 1px 3px 1px rgba(60, 64, 67, 0.15);\n",
              "    fill: var(--button-hover-fill-color);\n",
              "  }\n",
              "\n",
              "  .colab-df-quickchart-complete:disabled,\n",
              "  .colab-df-quickchart-complete:disabled:hover {\n",
              "    background-color: var(--disabled-bg-color);\n",
              "    fill: var(--disabled-fill-color);\n",
              "    box-shadow: none;\n",
              "  }\n",
              "\n",
              "  .colab-df-spinner {\n",
              "    border: 2px solid var(--fill-color);\n",
              "    border-color: transparent;\n",
              "    border-bottom-color: var(--fill-color);\n",
              "    animation:\n",
              "      spin 1s steps(1) infinite;\n",
              "  }\n",
              "\n",
              "  @keyframes spin {\n",
              "    0% {\n",
              "      border-color: transparent;\n",
              "      border-bottom-color: var(--fill-color);\n",
              "      border-left-color: var(--fill-color);\n",
              "    }\n",
              "    20% {\n",
              "      border-color: transparent;\n",
              "      border-left-color: var(--fill-color);\n",
              "      border-top-color: var(--fill-color);\n",
              "    }\n",
              "    30% {\n",
              "      border-color: transparent;\n",
              "      border-left-color: var(--fill-color);\n",
              "      border-top-color: var(--fill-color);\n",
              "      border-right-color: var(--fill-color);\n",
              "    }\n",
              "    40% {\n",
              "      border-color: transparent;\n",
              "      border-right-color: var(--fill-color);\n",
              "      border-top-color: var(--fill-color);\n",
              "    }\n",
              "    60% {\n",
              "      border-color: transparent;\n",
              "      border-right-color: var(--fill-color);\n",
              "    }\n",
              "    80% {\n",
              "      border-color: transparent;\n",
              "      border-right-color: var(--fill-color);\n",
              "      border-bottom-color: var(--fill-color);\n",
              "    }\n",
              "    90% {\n",
              "      border-color: transparent;\n",
              "      border-bottom-color: var(--fill-color);\n",
              "    }\n",
              "  }\n",
              "</style>\n",
              "\n",
              "  <script>\n",
              "    async function quickchart(key) {\n",
              "      const quickchartButtonEl =\n",
              "        document.querySelector('#' + key + ' button');\n",
              "      quickchartButtonEl.disabled = true;  // To prevent multiple clicks.\n",
              "      quickchartButtonEl.classList.add('colab-df-spinner');\n",
              "      try {\n",
              "        const charts = await google.colab.kernel.invokeFunction(\n",
              "            'suggestCharts', [key], {});\n",
              "      } catch (error) {\n",
              "        console.error('Error during call to suggestCharts:', error);\n",
              "      }\n",
              "      quickchartButtonEl.classList.remove('colab-df-spinner');\n",
              "      quickchartButtonEl.classList.add('colab-df-quickchart-complete');\n",
              "    }\n",
              "    (() => {\n",
              "      let quickchartButtonEl =\n",
              "        document.querySelector('#df-4f194f89-22ff-411a-907b-e42703ebb381 button');\n",
              "      quickchartButtonEl.style.display =\n",
              "        google.colab.kernel.accessAllowed ? 'block' : 'none';\n",
              "    })();\n",
              "  </script>\n",
              "</div>\n",
              "\n",
              "    </div>\n",
              "  </div>\n"
            ],
            "application/vnd.google.colaboratory.intrinsic+json": {
              "type": "dataframe",
              "summary": "{\n  \"name\": \"ventas\",\n  \"rows\": 8,\n  \"fields\": [\n    {\n      \"column\": \"VentaID\",\n      \"properties\": {\n        \"dtype\": \"number\",\n        \"std\": 377911.28429234936,\n        \"min\": 0.0,\n        \"max\": 1048575.0,\n        \"num_unique_values\": 7,\n        \"samples\": [\n          1048575.0,\n          524287.0,\n          1048574.0\n        ],\n        \"semantic_type\": \"\",\n        \"description\": \"\"\n      }\n    },\n    {\n      \"column\": \"Fecha_venta\",\n      \"properties\": {\n        \"dtype\": \"date\",\n        \"min\": \"1970-01-01 00:00:00.001048575\",\n        \"max\": \"2016-02-29 00:00:00\",\n        \"num_unique_values\": 7,\n        \"samples\": [\n          \"1048575\",\n          \"2016-01-19 21:59:18.574636288\",\n          \"2016-01-28 00:00:00\"\n        ],\n        \"semantic_type\": \"\",\n        \"description\": \"\"\n      }\n    },\n    {\n      \"column\": \"Tienda\",\n      \"properties\": {\n        \"dtype\": \"number\",\n        \"std\": 370713.99227604776,\n        \"min\": 1.0,\n        \"max\": 1048575.0,\n        \"num_unique_values\": 8,\n        \"samples\": [\n          40.08063228667477,\n          64.0,\n          1048575.0\n        ],\n        \"semantic_type\": \"\",\n        \"description\": \"\"\n      }\n    },\n    {\n      \"column\": \"ProductoID\",\n      \"properties\": {\n        \"dtype\": \"number\",\n        \"std\": 364676.29395173513,\n        \"min\": 58.0,\n        \"max\": 1048575.0,\n        \"num_unique_values\": 8,\n        \"samples\": [\n          12169.585280976564,\n          17954.0,\n          1048575.0\n        ],\n        \"semantic_type\": \"\",\n        \"description\": \"\"\n      }\n    },\n    {\n      \"column\": \"Volumen\",\n      \"properties\": {\n        \"dtype\": \"number\",\n        \"std\": 369540.3672123137,\n        \"min\": 50.0,\n        \"max\": 1048575.0,\n        \"num_unique_values\": 7,\n        \"samples\": [\n          1048575.0,\n          950.0280266075388,\n          20000.0\n        ],\n        \"semantic_type\": \"\",\n        \"description\": \"\"\n      }\n    },\n    {\n      \"column\": \"Clasificacion\",\n      \"properties\": {\n        \"dtype\": \"number\",\n        \"std\": 370726.7965421241,\n        \"min\": 0.4929871627213894,\n        \"max\": 1048575.0,\n        \"num_unique_values\": 5,\n        \"samples\": [\n          1.4165500798703001,\n          0.4929871627213894,\n          1.0\n        ],\n        \"semantic_type\": \"\",\n        \"description\": \"\"\n      }\n    },\n    {\n      \"column\": \"ProveedorID\",\n      \"properties\": {\n        \"dtype\": \"number\",\n        \"std\": 365094.04785965086,\n        \"min\": 2.0,\n        \"max\": 1048575.0,\n        \"num_unique_values\": 8,\n        \"samples\": [\n          6995.043206256109,\n          9552.0,\n          1048575.0\n        ],\n        \"semantic_type\": \"\",\n        \"description\": \"\"\n      }\n    },\n    {\n      \"column\": \"Precio_venta\",\n      \"properties\": {\n        \"dtype\": \"number\",\n        \"std\": 370475.2378469038,\n        \"min\": 0.49,\n        \"max\": 1048575.0,\n        \"num_unique_values\": 8,\n        \"samples\": [\n          15.431621505376345,\n          18.99,\n          1048575.0\n        ],\n        \"semantic_type\": \"\",\n        \"description\": \"\"\n      }\n    },\n    {\n      \"column\": \"Cantidad\",\n      \"properties\": {\n        \"dtype\": \"number\",\n        \"std\": 370704.90984928666,\n        \"min\": 1.0,\n        \"max\": 1048575.0,\n        \"num_unique_values\": 6,\n        \"samples\": [\n          1048575.0,\n          2.337619149798536,\n          3.5114919916229597\n        ],\n        \"semantic_type\": \"\",\n        \"description\": \"\"\n      }\n    },\n    {\n      \"column\": \"Precio_total\",\n      \"properties\": {\n        \"dtype\": \"number\",\n        \"std\": 370077.54938232165,\n        \"min\": 0.49,\n        \"max\": 1048575.0,\n        \"num_unique_values\": 8,\n        \"samples\": [\n          31.604201215935912,\n          31.99,\n          1048575.0\n        ],\n        \"semantic_type\": \"\",\n        \"description\": \"\"\n      }\n    },\n    {\n      \"column\": \"Impuesto\",\n      \"properties\": {\n        \"dtype\": \"number\",\n        \"std\": 370707.7905408033,\n        \"min\": 0.01,\n        \"max\": 1048575.0,\n        \"num_unique_values\": 8,\n        \"samples\": [\n          1.3268470543356454,\n          1.57,\n          1048575.0\n        ],\n        \"semantic_type\": \"\",\n        \"description\": \"\"\n      }\n    },\n    {\n      \"column\": \"A\\u00f1o\",\n      \"properties\": {\n        \"dtype\": \"number\",\n        \"std\": 370116.97858937114,\n        \"min\": 0.0,\n        \"max\": 1048575.0,\n        \"num_unique_values\": 3,\n        \"samples\": [\n          1048575.0,\n          2016.0,\n          0.0\n        ],\n        \"semantic_type\": \"\",\n        \"description\": \"\"\n      }\n    },\n    {\n      \"column\": \"Mes\",\n      \"properties\": {\n        \"dtype\": \"number\",\n        \"std\": 370726.8721049395,\n        \"min\": 0.30763021182077366,\n        \"max\": 1048575.0,\n        \"num_unique_values\": 5,\n        \"samples\": [\n          1.105837922895358,\n          0.30763021182077366,\n          1.0\n        ],\n        \"semantic_type\": \"\",\n        \"description\": \"\"\n      }\n    },\n    {\n      \"column\": \"Dia\",\n      \"properties\": {\n        \"dtype\": \"number\",\n        \"std\": 370721.863739079,\n        \"min\": 1.0,\n        \"max\": 1048575.0,\n        \"num_unique_values\": 8,\n        \"samples\": [\n          16.63521159669075,\n          24.0,\n          1048575.0\n        ],\n        \"semantic_type\": \"\",\n        \"description\": \"\"\n      }\n    }\n  ]\n}"
            }
          },
          "metadata": {},
          "execution_count": 7
        }
      ]
    },
    {
      "cell_type": "markdown",
      "source": [
        "---\n",
        "\n",
        "\n",
        "#<h3> 1.4 Análisis exploratorio de datos</h3>\n",
        "\n",
        "---"
      ],
      "metadata": {
        "id": "Zf-fK-zc2_-j"
      }
    },
    {
      "cell_type": "markdown",
      "source": [
        "**Previsión de la demanda**"
      ],
      "metadata": {
        "id": "0YHuwyjx3Dq6"
      }
    },
    {
      "cell_type": "markdown",
      "source": [
        "Agrupación y Suma por Fecha"
      ],
      "metadata": {
        "id": "H-W7irRkBYYn"
      }
    },
    {
      "cell_type": "code",
      "source": [
        "# Agrupar las ventas por fecha y sumar la cantidad vendida\n",
        "cantidad_total_de_ventas = ventas.groupby(\"Fecha_venta\").agg({\"Cantidad\": \"sum\"})"
      ],
      "metadata": {
        "id": "bFUjwscpA46Q"
      },
      "execution_count": 8,
      "outputs": []
    },
    {
      "cell_type": "code",
      "source": [
        "# Calcular la media de ventas por día\n",
        "media_diaria = cantidad_total_de_ventas['Cantidad'].mean()\n",
        "\n",
        "# Calcular la media de ventas por semana\n",
        "cantidad_total_de_ventas_semanal = cantidad_total_de_ventas.resample('W').sum()\n",
        "media_semanal = cantidad_total_de_ventas_semanal['Cantidad'].mean()\n",
        "\n",
        "# Calcular la media de ventas por mes\n",
        "cantidad_total_de_ventas_mensual = cantidad_total_de_ventas.resample('M').sum()\n",
        "media_mensual = cantidad_total_de_ventas_mensual['Cantidad'].mean()\n",
        "\n",
        "# Redondear los resultados a números enteros\n",
        "media_diaria_entera = round(media_diaria)\n",
        "media_semanal_entera = round(media_semanal)\n",
        "media_mensual_entera = round(media_mensual)\n",
        "\n",
        "\n",
        "print(f\"Media diaria de ventas: {media_diaria_entera}\")\n",
        "print(f\"Media semanal de ventas: {media_semanal_entera}\")\n",
        "print(f\"Media mensual de ventas: {media_mensual_entera}\")"
      ],
      "metadata": {
        "colab": {
          "base_uri": "https://localhost:8080/"
        },
        "id": "XouIbCp6Bbzj",
        "outputId": "17bea299-2e5a-4c7f-f52a-89f61a636664"
      },
      "execution_count": 9,
      "outputs": [
        {
          "output_type": "stream",
          "name": "stdout",
          "text": [
            "Media diaria de ventas: 40853\n",
            "Media semanal de ventas: 245117\n",
            "Media mensual de ventas: 1225584\n"
          ]
        }
      ]
    },
    {
      "cell_type": "code",
      "source": [
        "import seaborn as sns\n",
        "# calcular outliers\n",
        "# Calcular el rango intercuartílico (IQR)\n",
        "Q1 = cantidad_total_de_ventas['Cantidad'].quantile(0.25)\n",
        "Q3 = cantidad_total_de_ventas['Cantidad'].quantile(0.75)\n",
        "IQR = Q3 - Q1\n",
        "\n",
        "# Definir los límites para identificar outliers\n",
        "limite_inferior = Q1 - 1.5 * IQR\n",
        "limite_superior = Q3 + 1.5 * IQR\n",
        "\n",
        "# Identificar outliers\n",
        "outliers = cantidad_total_de_ventas[(cantidad_total_de_ventas['Cantidad'] < limite_inferior) | (cantidad_total_de_ventas['Cantidad'] > limite_superior)]\n",
        "\n",
        "print(\"Outliers detectados:\")\n",
        "print(outliers)\n"
      ],
      "metadata": {
        "colab": {
          "base_uri": "https://localhost:8080/"
        },
        "id": "e9DBcFLnBmLx",
        "outputId": "3c07d9a8-9a54-42a5-dc35-32ed78d7d415"
      },
      "execution_count": 10,
      "outputs": [
        {
          "output_type": "stream",
          "name": "stdout",
          "text": [
            "Outliers detectados:\n",
            "             Cantidad\n",
            "Fecha_venta          \n",
            "2016-01-29     180426\n"
          ]
        }
      ]
    },
    {
      "cell_type": "markdown",
      "source": [
        "**Visualización Gráfica de los Resultados**"
      ],
      "metadata": {
        "id": "Oh1XVCX9i95D"
      }
    },
    {
      "cell_type": "code",
      "source": [
        "# Crear un boxplot\n",
        "plt.figure(figsize=(10, 6))\n",
        "sns.boxplot(x=cantidad_total_de_ventas['Cantidad'])\n",
        "plt.title('Boxplot de Cantidad de Ventas')\n",
        "plt.show()\n"
      ],
      "metadata": {
        "colab": {
          "base_uri": "https://localhost:8080/",
          "height": 564
        },
        "id": "fpFwwV5fCAKx",
        "outputId": "c6a8b17e-806c-4160-ac0f-d2ba7164bba2"
      },
      "execution_count": 11,
      "outputs": [
        {
          "output_type": "display_data",
          "data": {
            "text/plain": [
              "<Figure size 1000x600 with 1 Axes>"
            ],
            "image/png": "[encoded data removed]"
          },
          "metadata": {}
        }
      ]
    },
    {
      "cell_type": "code",
      "source": [
        "plt.figure(figsize=(14, 7))\n",
        "plt.scatter(cantidad_total_de_ventas.index, cantidad_total_de_ventas['Cantidad'], color='blue')\n",
        "plt.axhline(y=limite_superior, color='r', linestyle='--')\n",
        "plt.axhline(y=limite_inferior, color='r', linestyle='--')\n",
        "plt.title('Ventas Diarias con Límites de Outliers')\n",
        "plt.xlabel('Fecha')\n",
        "plt.ylabel('Cantidad de Ventas')\n",
        "plt.show()"
      ],
      "metadata": {
        "colab": {
          "base_uri": "https://localhost:8080/",
          "height": 641
        },
        "id": "xSR2QSytCZXO",
        "outputId": "6dce25da-6249-4a08-dabc-dd01e9e9f61c"
      },
      "execution_count": 12,
      "outputs": [
        {
          "output_type": "display_data",
          "data": {
            "text/plain": [
              "<Figure size 1400x700 with 1 Axes>"
            ],
            "image/png": "[encoded data removed]"
          },
          "metadata": {}
        }
      ]
    },
    {
      "cell_type": "markdown",
      "source": [
        "**Previsión de la demanda:**\n",
        "\n",
        "Podemos definir la cantidad de ventas como demanda. En el gráfico se observa un factor de estacionalidad que afecta de forma semanal y el mensual.\n",
        "\n",
        "Podemos ver que el primer pico de demanda se produce el 2 de enero, que es jueves/viernes, y que cada jueves/viernes se alcanza el pico y baja el domingo.\n",
        "El pico de demanda se produce el 29 de enero (que de nuevo es jueves/viernes) con 180.000 ventas, pero al acercarse febrero baja instantáneamente y sólo alcanza un máximo de 16.700, lo que supone sólo un 9%. Esto indica que hay estacionalidad mensual.\n",
        "\n",
        "Por lo que nos centramos en realizar el analisis predictivo en fechas del 01/01/2016 al 31/01/2016"
      ],
      "metadata": {
        "id": "lyMraVXjyeDw"
      }
    },
    {
      "cell_type": "markdown",
      "source": [
        "**1.- Importación de Librerías y Configuración Inicial**"
      ],
      "metadata": {
        "id": "ZA6yufKWnG1E"
      }
    },
    {
      "cell_type": "code",
      "source": [
        "import plotly.express as px\n",
        "from statsmodels.tsa.deterministic import DeterministicProcess, CalendarFourier\n",
        "from sklearn.linear_model import LinearRegression\n",
        "from sklearn.preprocessing import StandardScaler"
      ],
      "metadata": {
        "id": "QhrA7VPVnKek"
      },
      "execution_count": 40,
      "outputs": []
    },
    {
      "cell_type": "markdown",
      "source": [
        "**2. Filtrado de Datos**"
      ],
      "metadata": {
        "id": "XuzYfEPvkdpv"
      }
    },
    {
      "cell_type": "markdown",
      "source": [
        "En primer lugar, se filtran los datos de ventas para incluir solo aquellas transacciones con una cantidad vendida mayor a cero. Esto elimina registros no relevantes o errores en los datos.\n",
        "\n",
        "Luego, se seleccionan las ventas correspondientes al mes de enero de 2016."
      ],
      "metadata": {
        "id": "WUSCEKdRoXLl"
      }
    },
    {
      "cell_type": "code",
      "source": [
        "# Filtrar ventas para incluir solo aquellas con cantidad mayor a cero\n",
        "ventas = ventas[ventas['Cantidad'] > 0]\n",
        "# Filtrar ventas de enero de 2016\n",
        "ventas_enero = ventas[(ventas['Fecha_venta'] >= '2016-01-01') & (ventas['Fecha_venta'] < '2016-01-31')]"
      ],
      "metadata": {
        "id": "oN0KWF7HnNwi"
      },
      "execution_count": 41,
      "outputs": []
    },
    {
      "cell_type": "markdown",
      "source": [
        "**3. Creación del DataFrame**"
      ],
      "metadata": {
        "id": "IWl-ZN44khIy"
      }
    },
    {
      "cell_type": "markdown",
      "source": [
        "Se agrupan las ventas por fecha (\"Fecha_venta\") y se calcula la suma total de la cantidad vendida para cada fecha. Esto crea un nuevo DataFrame llamado *cantidad_enero*."
      ],
      "metadata": {
        "id": "YPeZ5gfPokPK"
      }
    },
    {
      "cell_type": "code",
      "source": [
        "# Crear un DataFrame con las fechas y la cantidad vendida\n",
        "cantidad_enero = ventas_enero.groupby(\"Fecha_venta\").agg({\"Cantidad\": \"sum\"})"
      ],
      "metadata": {
        "id": "27WiGuHAojl9"
      },
      "execution_count": 42,
      "outputs": []
    },
    {
      "cell_type": "markdown",
      "source": [
        "**4. Configuración del Proceso Determinístico**"
      ],
      "metadata": {
        "id": "XwTB8tPJkkdO"
      }
    },
    {
      "cell_type": "markdown",
      "source": [
        "Se configura un proceso determinístico para modelar las tendencias y estacionalidades en los datos de ventas. Utilizamos la clase *CalendarFourier* para crear componentes estacionales (en este caso, frecuencia mensual)."
      ],
      "metadata": {
        "id": "CyzjpqdQo3Yh"
      }
    },
    {
      "cell_type": "code",
      "source": [
        "# Configurar el proceso determinístico\n",
        "fourierM = CalendarFourier(freq=\"M\", order=6)\n",
        "dp = DeterministicProcess(\n",
        "    index=cantidad_enero.index,\n",
        "    constant=True,\n",
        "    order=4,\n",
        "    seasonal=True,\n",
        "    additional_terms=[fourierM],\n",
        ")"
      ],
      "metadata": {
        "id": "3Pi9zzbrou-J"
      },
      "execution_count": 43,
      "outputs": []
    },
    {
      "cell_type": "markdown",
      "source": [
        "**5. Normalización de Características**"
      ],
      "metadata": {
        "id": "2ObSBBrakoTa"
      }
    },
    {
      "cell_type": "markdown",
      "source": [
        "Se utiliza *StandardScaler* para normalizar las características del proceso determinístico. Esto es importante para que las características tengan una escala comparable y no afecten negativamente el rendimiento del modelo."
      ],
      "metadata": {
        "id": "wrwu8K5tpKMC"
      }
    },
    {
      "cell_type": "code",
      "source": [
        "# Obtener las variables exógenas\n",
        "X = dp.in_sample()\n",
        "\n",
        "# Normalizar las características\n",
        "scaler = StandardScaler()\n",
        "X_scaled = scaler.fit_transform(X)"
      ],
      "metadata": {
        "id": "RzSmdLFzpJqR"
      },
      "execution_count": 44,
      "outputs": []
    },
    {
      "cell_type": "markdown",
      "source": [
        "**6. Ajuste del Modelo de Regresión Lineal**"
      ],
      "metadata": {
        "id": "K3vWy7o5ktiC"
      }
    },
    {
      "cell_type": "markdown",
      "source": [
        "Se crea un modelo de *Regresión Lineal* y se ajusta a las características normalizadas (*X_scaled*) y la cantidad vendida (*cantidad_enero['Cantidad']*).\n",
        "El objetivo es predecir la cantidad vendida."
      ],
      "metadata": {
        "id": "2Raibuc1pkRQ"
      }
    },
    {
      "cell_type": "code",
      "source": [
        "# Ajustar el modelo de regresión lineal\n",
        "model = LinearRegression().fit(X_scaled, cantidad_enero['Cantidad'])"
      ],
      "metadata": {
        "id": "fDdDMcvypbZL"
      },
      "execution_count": 45,
      "outputs": []
    },
    {
      "cell_type": "markdown",
      "source": [
        "**7. Predicciones y Gráfico Interactivo**"
      ],
      "metadata": {
        "id": "aNIaI9VjkvAQ"
      }
    },
    {
      "cell_type": "markdown",
      "source": [
        "- Se realizan predicciones en el conjunto de entrenamiento utilizando el modelo de regresión lineal.<br>\n",
        "- Las predicciones se agregan al DataFrame cantidad_enero como la columna \"prediccion\".<br>\n",
        "- Se crea un gráfico interactivo utilizando Plot"
      ],
      "metadata": {
        "id": "ZqW9G81MqeZo"
      }
    },
    {
      "cell_type": "code",
      "source": [
        "# Realizar predicciones en el conjunto de entrenamiento\n",
        "y_pred = pd.Series(\n",
        "    model.predict(X_scaled),\n",
        "    index=X.index,\n",
        "    name=\"fitted\"\n",
        ")\n",
        "# Añadir predicciones al DataFrame\n",
        "cantidad_enero[\"prediccion\"] = y_pred\n",
        "# Gráfico interactivo\n",
        "fig = px.line(cantidad_enero, x=cantidad_enero.index, y=[\"Cantidad\", \"prediccion\"], title=\"Ventas en enero 2016 vs Predicción\")\n",
        "fig.show()"
      ],
      "metadata": {
        "colab": {
          "base_uri": "https://localhost:8080/",
          "height": 542
        },
        "id": "Kfl_MykKqdsy",
        "outputId": "862f33c2-2bb0-4e73-c881-268818d6e2fd"
      },
      "execution_count": 46,
      "outputs": [
        {
          "output_type": "display_data",
          "data": {
            "text/html": [
              "<html>\n",
              "<head><meta charset=\"utf-8\" /></head>\n",
              "<body>\n",
              "    <div>            <script src=\"https://cdnjs.cloudflare.com/ajax/libs/mathjax/2.7.5/MathJax.js?config=TeX-AMS-MML_SVG\"></script><script type=\"text/javascript\">if (window.MathJax && window.MathJax.Hub && window.MathJax.Hub.Config) {window.MathJax.Hub.Config({SVG: {font: \"STIX-Web\"}});}</script>                <script type=\"text/javascript\">window.PlotlyConfig = {MathJaxConfig: 'local'};</script>\n",
              "        <script charset=\"utf-8\" src=\"https://cdn.plot.ly/plotly-2.24.1.min.js\"></script>                <div id=\"17806938-9145-487e-824e-e525b3805b7e\" class=\"plotly-graph-div\" style=\"height:525px; width:100%;\"></div>            <script type=\"text/javascript\">                                    window.PLOTLYENV=window.PLOTLYENV || {};                                    if (document.getElementById(\"17806938-9145-487e-824e-e525b3805b7e\")) {                    Plotly.newPlot(                        \"17806938-9145-487e-824e-e525b3805b7e\",                        [{\"hovertemplate\":\"variable=Cantidad\\u003cbr\\u003eFecha_venta=%{x}\\u003cbr\\u003evalue=%{y}\\u003cextra\\u003e\\u003c\\u002fextra\\u003e\",\"legendgroup\":\"Cantidad\",\"line\":{\"color\":\"#636efa\",\"dash\":\"solid\"},\"marker\":{\"symbol\":\"circle\"},\"mode\":\"lines\",\"name\":\"Cantidad\",\"orientation\":\"v\",\"showlegend\":true,\"x\":[\"2016-01-01T00:00:00\",\"2016-01-02T00:00:00\",\"2016-01-03T00:00:00\",\"2016-01-04T00:00:00\",\"2016-01-05T00:00:00\",\"2016-01-06T00:00:00\",\"2016-01-07T00:00:00\",\"2016-01-08T00:00:00\",\"2016-01-09T00:00:00\",\"2016-01-10T00:00:00\",\"2016-01-11T00:00:00\",\"2016-01-12T00:00:00\",\"2016-01-13T00:00:00\",\"2016-01-14T00:00:00\",\"2016-01-15T00:00:00\",\"2016-01-16T00:00:00\",\"2016-01-17T00:00:00\",\"2016-01-18T00:00:00\",\"2016-01-19T00:00:00\",\"2016-01-20T00:00:00\",\"2016-01-21T00:00:00\",\"2016-01-22T00:00:00\",\"2016-01-23T00:00:00\",\"2016-01-24T00:00:00\",\"2016-01-25T00:00:00\",\"2016-01-26T00:00:00\",\"2016-01-27T00:00:00\",\"2016-01-28T00:00:00\",\"2016-01-29T00:00:00\",\"2016-01-30T00:00:00\"],\"xaxis\":\"x\",\"y\":[49911.0,93114.0,53037.0,41341.0,40831.0,51358.0,59792.0,97389.0,101690.0,46146.0,44654.0,49803.0,48556.0,64830.0,107858.0,98860.0,66170.0,48512.0,49128.0,53132.0,70333.0,107974.0,106146.0,59926.0,41917.0,48505.0,54176.0,69222.0,180426.0,117456.0],\"yaxis\":\"y\",\"type\":\"scatter\"},{\"hovertemplate\":\"variable=prediccion\\u003cbr\\u003eFecha_venta=%{x}\\u003cbr\\u003evalue=%{y}\\u003cextra\\u003e\\u003c\\u002fextra\\u003e\",\"legendgroup\":\"prediccion\",\"line\":{\"color\":\"#EF553B\",\"dash\":\"solid\"},\"marker\":{\"symbol\":\"circle\"},\"mode\":\"lines\",\"name\":\"prediccion\",\"orientation\":\"v\",\"showlegend\":true,\"x\":[\"2016-01-01T00:00:00\",\"2016-01-02T00:00:00\",\"2016-01-03T00:00:00\",\"2016-01-04T00:00:00\",\"2016-01-05T00:00:00\",\"2016-01-06T00:00:00\",\"2016-01-07T00:00:00\",\"2016-01-08T00:00:00\",\"2016-01-09T00:00:00\",\"2016-01-10T00:00:00\",\"2016-01-11T00:00:00\",\"2016-01-12T00:00:00\",\"2016-01-13T00:00:00\",\"2016-01-14T00:00:00\",\"2016-01-15T00:00:00\",\"2016-01-16T00:00:00\",\"2016-01-17T00:00:00\",\"2016-01-18T00:00:00\",\"2016-01-19T00:00:00\",\"2016-01-20T00:00:00\",\"2016-01-21T00:00:00\",\"2016-01-22T00:00:00\",\"2016-01-23T00:00:00\",\"2016-01-24T00:00:00\",\"2016-01-25T00:00:00\",\"2016-01-26T00:00:00\",\"2016-01-27T00:00:00\",\"2016-01-28T00:00:00\",\"2016-01-29T00:00:00\",\"2016-01-30T00:00:00\"],\"xaxis\":\"x\",\"y\":[49887.37760519261,93267.26763551723,52678.04815802718,41460.39288081841,42053.83526661274,48459.534164369354,62096.3732134929,99264.96046434081,95195.021941202,52775.08140156063,42824.35369043602,46769.98805255353,52217.58065683258,64389.93467402836,104376.31971807423,104206.10993145916,62161.278854798395,49338.38083347475,49937.59238118352,53862.0413791638,67578.7635699827,109877.73414112597,107105.39329606014,57664.59158113126,42800.872571689804,49505.58430481831,52682.843777193935,70111.92855921446,180151.60807726975,117492.20722169266],\"yaxis\":\"y\",\"type\":\"scatter\"}],                        {\"template\":{\"data\":{\"histogram2dcontour\":[{\"type\":\"histogram2dcontour\",\"colorbar\":{\"outlinewidth\":0,\"ticks\":\"\"},\"colorscale\":[[0.0,\"#0d0887\"],[0.1111111111111111,\"#46039f\"],[0.2222222222222222,\"#7201a8\"],[0.3333333333333333,\"#9c179e\"],[0.4444444444444444,\"#bd3786\"],[0.5555555555555556,\"#d8576b\"],[0.6666666666666666,\"#ed7953\"],[0.7777777777777778,\"#fb9f3a\"],[0.8888888888888888,\"#fdca26\"],[1.0,\"#f0f921\"]]}],\"choropleth\":[{\"type\":\"choropleth\",\"colorbar\":{\"outlinewidth\":0,\"ticks\":\"\"}}],\"histogram2d\":[{\"type\":\"histogram2d\",\"colorbar\":{\"outlinewidth\":0,\"ticks\":\"\"},\"colorscale\":[[0.0,\"#0d0887\"],[0.1111111111111111,\"#46039f\"],[0.2222222222222222,\"#7201a8\"],[0.3333333333333333,\"#9c179e\"],[0.4444444444444444,\"#bd3786\"],[0.5555555555555556,\"#d8576b\"],[0.6666666666666666,\"#ed7953\"],[0.7777777777777778,\"#fb9f3a\"],[0.8888888888888888,\"#fdca26\"],[1.0,\"#f0f921\"]]}],\"heatmap\":[{\"type\":\"heatmap\",\"colorbar\":{\"outlinewidth\":0,\"ticks\":\"\"},\"colorscale\":[[0.0,\"#0d0887\"],[0.1111111111111111,\"#46039f\"],[0.2222222222222222,\"#7201a8\"],[0.3333333333333333,\"#9c179e\"],[0.4444444444444444,\"#bd3786\"],[0.5555555555555556,\"#d8576b\"],[0.6666666666666666,\"#ed7953\"],[0.7777777777777778,\"#fb9f3a\"],[0.8888888888888888,\"#fdca26\"],[1.0,\"#f0f921\"]]}],\"heatmapgl\":[{\"type\":\"heatmapgl\",\"colorbar\":{\"outlinewidth\":0,\"ticks\":\"\"},\"colorscale\":[[0.0,\"#0d0887\"],[0.1111111111111111,\"#46039f\"],[0.2222222222222222,\"#7201a8\"],[0.3333333333333333,\"#9c179e\"],[0.4444444444444444,\"#bd3786\"],[0.5555555555555556,\"#d8576b\"],[0.6666666666666666,\"#ed7953\"],[0.7777777777777778,\"#fb9f3a\"],[0.8888888888888888,\"#fdca26\"],[1.0,\"#f0f921\"]]}],\"contourcarpet\":[{\"type\":\"contourcarpet\",\"colorbar\":{\"outlinewidth\":0,\"ticks\":\"\"}}],\"contour\":[{\"type\":\"contour\",\"colorbar\":{\"outlinewidth\":0,\"ticks\":\"\"},\"colorscale\":[[0.0,\"#0d0887\"],[0.1111111111111111,\"#46039f\"],[0.2222222222222222,\"#7201a8\"],[0.3333333333333333,\"#9c179e\"],[0.4444444444444444,\"#bd3786\"],[0.5555555555555556,\"#d8576b\"],[0.6666666666666666,\"#ed7953\"],[0.7777777777777778,\"#fb9f3a\"],[0.8888888888888888,\"#fdca26\"],[1.0,\"#f0f921\"]]}],\"surface\":[{\"type\":\"surface\",\"colorbar\":{\"outlinewidth\":0,\"ticks\":\"\"},\"colorscale\":[[0.0,\"#0d0887\"],[0.1111111111111111,\"#46039f\"],[0.2222222222222222,\"#7201a8\"],[0.3333333333333333,\"#9c179e\"],[0.4444444444444444,\"#bd3786\"],[0.5555555555555556,\"#d8576b\"],[0.6666666666666666,\"#ed7953\"],[0.7777777777777778,\"#fb9f3a\"],[0.8888888888888888,\"#fdca26\"],[1.0,\"#f0f921\"]]}],\"mesh3d\":[{\"type\":\"mesh3d\",\"colorbar\":{\"outlinewidth\":0,\"ticks\":\"\"}}],\"scatter\":[{\"fillpattern\":{\"fillmode\":\"overlay\",\"size\":10,\"solidity\":0.2},\"type\":\"scatter\"}],\"parcoords\":[{\"type\":\"parcoords\",\"line\":{\"colorbar\":{\"outlinewidth\":0,\"ticks\":\"\"}}}],\"scatterpolargl\":[{\"type\":\"scatterpolargl\",\"marker\":{\"colorbar\":{\"outlinewidth\":0,\"ticks\":\"\"}}}],\"bar\":[{\"error_x\":{\"color\":\"#2a3f5f\"},\"error_y\":{\"color\":\"#2a3f5f\"},\"marker\":{\"line\":{\"color\":\"#E5ECF6\",\"width\":0.5},\"pattern\":{\"fillmode\":\"overlay\",\"size\":10,\"solidity\":0.2}},\"type\":\"bar\"}],\"scattergeo\":[{\"type\":\"scattergeo\",\"marker\":{\"colorbar\":{\"outlinewidth\":0,\"ticks\":\"\"}}}],\"scatterpolar\":[{\"type\":\"scatterpolar\",\"marker\":{\"colorbar\":{\"outlinewidth\":0,\"ticks\":\"\"}}}],\"histogram\":[{\"marker\":{\"pattern\":{\"fillmode\":\"overlay\",\"size\":10,\"solidity\":0.2}},\"type\":\"histogram\"}],\"scattergl\":[{\"type\":\"scattergl\",\"marker\":{\"colorbar\":{\"outlinewidth\":0,\"ticks\":\"\"}}}],\"scatter3d\":[{\"type\":\"scatter3d\",\"line\":{\"colorbar\":{\"outlinewidth\":0,\"ticks\":\"\"}},\"marker\":{\"colorbar\":{\"outlinewidth\":0,\"ticks\":\"\"}}}],\"scattermapbox\":[{\"type\":\"scattermapbox\",\"marker\":{\"colorbar\":{\"outlinewidth\":0,\"ticks\":\"\"}}}],\"scatterternary\":[{\"type\":\"scatterternary\",\"marker\":{\"colorbar\":{\"outlinewidth\":0,\"ticks\":\"\"}}}],\"scattercarpet\":[{\"type\":\"scattercarpet\",\"marker\":{\"colorbar\":{\"outlinewidth\":0,\"ticks\":\"\"}}}],\"carpet\":[{\"aaxis\":{\"endlinecolor\":\"#2a3f5f\",\"gridcolor\":\"white\",\"linecolor\":\"white\",\"minorgridcolor\":\"white\",\"startlinecolor\":\"#2a3f5f\"},\"baxis\":{\"endlinecolor\":\"#2a3f5f\",\"gridcolor\":\"white\",\"linecolor\":\"white\",\"minorgridcolor\":\"white\",\"startlinecolor\":\"#2a3f5f\"},\"type\":\"carpet\"}],\"table\":[{\"cells\":{\"fill\":{\"color\":\"#EBF0F8\"},\"line\":{\"color\":\"white\"}},\"header\":{\"fill\":{\"color\":\"#C8D4E3\"},\"line\":{\"color\":\"white\"}},\"type\":\"table\"}],\"barpolar\":[{\"marker\":{\"line\":{\"color\":\"#E5ECF6\",\"width\":0.5},\"pattern\":{\"fillmode\":\"overlay\",\"size\":10,\"solidity\":0.2}},\"type\":\"barpolar\"}],\"pie\":[{\"automargin\":true,\"type\":\"pie\"}]},\"layout\":{\"autotypenumbers\":\"strict\",\"colorway\":[\"#636efa\",\"#EF553B\",\"#00cc96\",\"#ab63fa\",\"#FFA15A\",\"#19d3f3\",\"#FF6692\",\"#B6E880\",\"#FF97FF\",\"#FECB52\"],\"font\":{\"color\":\"#2a3f5f\"},\"hovermode\":\"closest\",\"hoverlabel\":{\"align\":\"left\"},\"paper_bgcolor\":\"white\",\"plot_bgcolor\":\"#E5ECF6\",\"polar\":{\"bgcolor\":\"#E5ECF6\",\"angularaxis\":{\"gridcolor\":\"white\",\"linecolor\":\"white\",\"ticks\":\"\"},\"radialaxis\":{\"gridcolor\":\"white\",\"linecolor\":\"white\",\"ticks\":\"\"}},\"ternary\":{\"bgcolor\":\"#E5ECF6\",\"aaxis\":{\"gridcolor\":\"white\",\"linecolor\":\"white\",\"ticks\":\"\"},\"baxis\":{\"gridcolor\":\"white\",\"linecolor\":\"white\",\"ticks\":\"\"},\"caxis\":{\"gridcolor\":\"white\",\"linecolor\":\"white\",\"ticks\":\"\"}},\"coloraxis\":{\"colorbar\":{\"outlinewidth\":0,\"ticks\":\"\"}},\"colorscale\":{\"sequential\":[[0.0,\"#0d0887\"],[0.1111111111111111,\"#46039f\"],[0.2222222222222222,\"#7201a8\"],[0.3333333333333333,\"#9c179e\"],[0.4444444444444444,\"#bd3786\"],[0.5555555555555556,\"#d8576b\"],[0.6666666666666666,\"#ed7953\"],[0.7777777777777778,\"#fb9f3a\"],[0.8888888888888888,\"#fdca26\"],[1.0,\"#f0f921\"]],\"sequentialminus\":[[0.0,\"#0d0887\"],[0.1111111111111111,\"#46039f\"],[0.2222222222222222,\"#7201a8\"],[0.3333333333333333,\"#9c179e\"],[0.4444444444444444,\"#bd3786\"],[0.5555555555555556,\"#d8576b\"],[0.6666666666666666,\"#ed7953\"],[0.7777777777777778,\"#fb9f3a\"],[0.8888888888888888,\"#fdca26\"],[1.0,\"#f0f921\"]],\"diverging\":[[0,\"#8e0152\"],[0.1,\"#c51b7d\"],[0.2,\"#de77ae\"],[0.3,\"#f1b6da\"],[0.4,\"#fde0ef\"],[0.5,\"#f7f7f7\"],[0.6,\"#e6f5d0\"],[0.7,\"#b8e186\"],[0.8,\"#7fbc41\"],[0.9,\"#4d9221\"],[1,\"#276419\"]]},\"xaxis\":{\"gridcolor\":\"white\",\"linecolor\":\"white\",\"ticks\":\"\",\"title\":{\"standoff\":15},\"zerolinecolor\":\"white\",\"automargin\":true,\"zerolinewidth\":2},\"yaxis\":{\"gridcolor\":\"white\",\"linecolor\":\"white\",\"ticks\":\"\",\"title\":{\"standoff\":15},\"zerolinecolor\":\"white\",\"automargin\":true,\"zerolinewidth\":2},\"scene\":{\"xaxis\":{\"backgroundcolor\":\"#E5ECF6\",\"gridcolor\":\"white\",\"linecolor\":\"white\",\"showbackground\":true,\"ticks\":\"\",\"zerolinecolor\":\"white\",\"gridwidth\":2},\"yaxis\":{\"backgroundcolor\":\"#E5ECF6\",\"gridcolor\":\"white\",\"linecolor\":\"white\",\"showbackground\":true,\"ticks\":\"\",\"zerolinecolor\":\"white\",\"gridwidth\":2},\"zaxis\":{\"backgroundcolor\":\"#E5ECF6\",\"gridcolor\":\"white\",\"linecolor\":\"white\",\"showbackground\":true,\"ticks\":\"\",\"zerolinecolor\":\"white\",\"gridwidth\":2}},\"shapedefaults\":{\"line\":{\"color\":\"#2a3f5f\"}},\"annotationdefaults\":{\"arrowcolor\":\"#2a3f5f\",\"arrowhead\":0,\"arrowwidth\":1},\"geo\":{\"bgcolor\":\"white\",\"landcolor\":\"#E5ECF6\",\"subunitcolor\":\"white\",\"showland\":true,\"showlakes\":true,\"lakecolor\":\"white\"},\"title\":{\"x\":0.05},\"mapbox\":{\"style\":\"light\"}}},\"xaxis\":{\"anchor\":\"y\",\"domain\":[0.0,1.0],\"title\":{\"text\":\"Fecha_venta\"}},\"yaxis\":{\"anchor\":\"x\",\"domain\":[0.0,1.0],\"title\":{\"text\":\"value\"}},\"legend\":{\"title\":{\"text\":\"variable\"},\"tracegroupgap\":0},\"title\":{\"text\":\"Ventas en enero 2016 vs Predicci\\u00f3n\"}},                        {\"responsive\": true}                    ).then(function(){\n",
              "                            \n",
              "var gd = document.getElementById('17806938-9145-487e-824e-e525b3805b7e');\n",
              "var x = new MutationObserver(function (mutations, observer) {{\n",
              "        var display = window.getComputedStyle(gd).display;\n",
              "        if (!display || display === 'none') {{\n",
              "            console.log([gd, 'removed!']);\n",
              "            Plotly.purge(gd);\n",
              "            observer.disconnect();\n",
              "        }}\n",
              "}});\n",
              "\n",
              "// Listen for the removal of the full notebook cells\n",
              "var notebookContainer = gd.closest('#notebook-container');\n",
              "if (notebookContainer) {{\n",
              "    x.observe(notebookContainer, {childList: true});\n",
              "}}\n",
              "\n",
              "// Listen for the clearing of the current output cell\n",
              "var outputEl = gd.closest('.output');\n",
              "if (outputEl) {{\n",
              "    x.observe(outputEl, {childList: true});\n",
              "}}\n",
              "\n",
              "                        })                };                            </script>        </div>\n",
              "</body>\n",
              "</html>"
            ]
          },
          "metadata": {}
        }
      ]
    },
    {
      "cell_type": "markdown",
      "source": [
        "**8. Cálculo de Métricas de Precisión**"
      ],
      "metadata": {
        "id": "A7eGXkg9kXX9"
      }
    },
    {
      "cell_type": "code",
      "source": [
        "# Calcular métricas de precisión\n",
        "from sklearn.metrics import mean_squared_error, mean_absolute_error, r2_score\n",
        "\n",
        "# RMSE (Root Mean Squared Error)\n",
        "# Calcula el error cuadrático medio entre los valores reales y las predicciones, y luego toma la raíz cuadrada\n",
        "rmse = np.sqrt(mean_squared_error(cantidad_enero[\"Cantidad\"], cantidad_enero[\"prediccion\"]))\n",
        "\n",
        "# Calcular el MAE (Mean Absolute Error)\n",
        "# MAE mide el error promedio absoluto entre las predicciones y los valores reales\n",
        "mae = mean_absolute_error(cantidad_enero[\"Cantidad\"], cantidad_enero[\"prediccion\"])\n",
        "\n",
        "# Calcular el R² (Coeficiente de Determinación)\n",
        "# R² indica qué tan bien se ajustan las predicciones a los datos reales\n",
        "r2 = r2_score(cantidad_enero[\"Cantidad\"], cantidad_enero[\"prediccion\"])\n",
        "\n",
        "# Calcular el R² ajustado\n",
        "# R² ajustado ajusta el R² por el número de predictores en el modelo\n",
        "n = len(cantidad_enero)\n",
        "p = X.shape[1]\n",
        "r2_adjusted = 1 - (1 - r2) * (n - 1) / (n - p - 1)\n",
        "\n",
        "# Mostrar resultados\n",
        "print(f\"RMSE: {rmse}\")\n",
        "print(f\"MAE: {mae}\")\n",
        "print(f\"R²: {r2}\")\n",
        "print(f\"R² ajustado: {r2_adjusted}\")"
      ],
      "metadata": {
        "colab": {
          "base_uri": "https://localhost:8080/"
        },
        "id": "JA8sdMAYWSI3",
        "outputId": "eb6886ea-4895-494d-ad32-fd263645970f"
      },
      "execution_count": 47,
      "outputs": [
        {
          "output_type": "stream",
          "name": "stdout",
          "text": [
            "RMSE: 2657.9381532484854\n",
            "MAE: 1956.8224091599516\n",
            "R²: 0.9928043826563062\n",
            "R² ajustado: 0.9652211828388134\n"
          ]
        }
      ]
    },
    {
      "cell_type": "markdown",
      "source": [
        "**9.- Función para Predecir Ventas Futuras**"
      ],
      "metadata": {
        "id": "8S-i6xDylZOm"
      }
    },
    {
      "cell_type": "markdown",
      "source": [
        "\n",
        "Se Realiza predicciones de ventas futuras para un período específico.\n",
        "\n",
        "  *Parámetros:*<br>\n",
        "\n",
        "\n",
        "*   fecha_inicio: Fecha a partir de la cual se realizarán las predicciones (formato 'YYYY-MM-DD').<br>\n",
        "*   meses_futuros: Número de meses para predecir hacia el futuro.\n",
        "\n",
        "*Retorna:*<br>\n",
        "\n",
        "\n",
        "*   predicciones_futuras: Serie temporal con las predicciones de ventas.\n"
      ],
      "metadata": {
        "id": "LBFAHkTwwBOt"
      }
    },
    {
      "cell_type": "code",
      "source": [
        "def predecir_ventas(fecha_inicio, meses_futuros):\n",
        "\n",
        "    # Generar un rango de fechas futuras con frecuencia diaria\n",
        "    fechas_futuras = pd.date_range(start=fecha_inicio, periods=meses_futuros * 31, freq='D')\n",
        "\n",
        "    # Configurar el proceso determinístico para las fechas futuras usando las mismas configuraciones\n",
        "    dp_futuro = DeterministicProcess(\n",
        "        index=fechas_futuras,\n",
        "        constant=True,\n",
        "        order=4,\n",
        "        seasonal=True,\n",
        "        additional_terms=[fourierM],\n",
        "    )\n",
        "\n",
        "    # Obtener las variables exógenas para las fechas futuras\n",
        "    X_futuro = dp_futuro.in_sample()\n",
        "\n",
        "    # Asegurar que las columnas de X_futuro sean consistentes con las de X original\n",
        "    X_futuro = X_futuro.reindex(columns=X.columns, fill_value=0)\n",
        "\n",
        "    # Normalizar las características futuras\n",
        "    X_futuro_scaled = scaler.transform(X_futuro)\n",
        "\n",
        "    # Realizar predicciones para las fechas futuras\n",
        "    predicciones_futuras = pd.Series(\n",
        "        model.predict(X_futuro_scaled),\n",
        "        index=fechas_futuras,\n",
        "        name=\"prediccion\"\n",
        "    )\n",
        "\n",
        "    return predicciones_futuras"
      ],
      "metadata": {
        "id": "z2P9UhTkv1JS"
      },
      "execution_count": 48,
      "outputs": []
    },
    {
      "cell_type": "markdown",
      "source": [
        "**10. Predicciones para los Próximos Dos Meses**"
      ],
      "metadata": {
        "id": "6kxma7E1ldnk"
      }
    },
    {
      "cell_type": "code",
      "source": [
        "# Predecir ventas para los próximos dos meses a partir de enero\n",
        "predicciones = predecir_ventas('2016-01-01', 2)"
      ],
      "metadata": {
        "id": "1Bj3zv22w_hJ"
      },
      "execution_count": 49,
      "outputs": []
    },
    {
      "cell_type": "markdown",
      "source": [
        "**11. Obtener la Predicción para una Fecha Específica**"
      ],
      "metadata": {
        "id": "ehnc_HwKldjj"
      }
    },
    {
      "cell_type": "code",
      "source": [
        "# Obtener la predicción para una fecha específica (por ejemplo, '2016-01-20')\n",
        "fecha_especifica = pd.to_datetime('2016-01-28')\n",
        "prediccion_especifica = cantidad_enero.loc[fecha_especifica, \"prediccion\"]\n",
        "prediccion_especifica_redondeada = round(prediccion_especifica)\n",
        "print(f\"Predicción venta: {fecha_especifica.strftime('%Y-%m-%d')}: {prediccion_especifica_redondeada} unidades\")"
      ],
      "metadata": {
        "colab": {
          "base_uri": "https://localhost:8080/"
        },
        "id": "f9qBiMXixAmF",
        "outputId": "52dd1dba-76ba-4781-eb55-130792d0dbb9"
      },
      "execution_count": 50,
      "outputs": [
        {
          "output_type": "stream",
          "name": "stdout",
          "text": [
            "Predicción venta: 2016-01-28: 70112 unidades\n"
          ]
        }
      ]
    },
    {
      "cell_type": "markdown",
      "source": [
        "**12. Filtrado de Ventas para Enero de 2016**"
      ],
      "metadata": {
        "id": "E_tp4er0ldgH"
      }
    },
    {
      "cell_type": "code",
      "source": [
        "# Filtrar ventas_filtro para enero de 2016\n",
        "ventas_enero = ventas[(ventas['Fecha_venta'] >= '2016-01-01') & (ventas['Fecha_venta'] < '2016-02-01')]"
      ],
      "metadata": {
        "id": "gDc6YOMMxG2N"
      },
      "execution_count": 51,
      "outputs": []
    },
    {
      "cell_type": "markdown",
      "source": [
        "**13. Creación del DataFrame**"
      ],
      "metadata": {
        "id": "FNUch0EPlddB"
      }
    },
    {
      "cell_type": "code",
      "source": [
        "# Crear un DataFrame con las fechas y la cantidad vendida\n",
        "cantidad_enero = ventas_enero.groupby(\"Fecha_venta\").agg({\"Cantidad\": \"sum\"}).reset_index()"
      ],
      "metadata": {
        "id": "Qe_21gRJ1bUh"
      },
      "execution_count": 52,
      "outputs": []
    },
    {
      "cell_type": "markdown",
      "source": [
        "**14. Función para Obtener la Cantidad Vendida en una Fecha Específica**"
      ],
      "metadata": {
        "id": "G-RuqT9bldXp"
      }
    },
    {
      "cell_type": "code",
      "source": [
        "def obtener_ventas_fecha(fecha):\n",
        "    try:\n",
        "        # Convertir la fecha a datetime\n",
        "        fecha_dt = pd.to_datetime(fecha)\n",
        "\n",
        "        # Filtrar el DataFrame para la fecha especificada\n",
        "        ventas_en_fecha = cantidad_enero[cantidad_enero['Fecha_venta'] == fecha_dt]\n",
        "\n",
        "        # Verificar si hay ventas en la fecha especificada\n",
        "        if not ventas_en_fecha.empty:\n",
        "            # Sumar la cantidad vendida en esa fecha\n",
        "            cantidad_vendida = ventas_en_fecha['Cantidad'].sum()\n",
        "            return cantidad_vendida\n",
        "        else:\n",
        "            return \"No hay ventas registradas para esta fecha.\"\n",
        "    except Exception as e:\n",
        "        return str(e)\n"
      ],
      "metadata": {
        "id": "RlKcu1vUxO61"
      },
      "execution_count": 53,
      "outputs": []
    },
    {
      "cell_type": "markdown",
      "source": [
        "**15. Obtener la Cantidad Vendida para una Fecha Específica**"
      ],
      "metadata": {
        "id": "B5CUlxsine3a"
      }
    },
    {
      "cell_type": "code",
      "source": [
        "# Entrada de fecha\n",
        "fecha_consulta = '2016-01-20'\n",
        "cantidad_vendida = obtener_ventas_fecha(fecha_consulta)\n",
        "print(f\"Cantidad vendida: {fecha_consulta}: {cantidad_vendida} unidades\")"
      ],
      "metadata": {
        "colab": {
          "base_uri": "https://localhost:8080/"
        },
        "id": "mLMYTCgg9fjO",
        "outputId": "a538c28a-860a-4703-abe8-6eccd1c586ce"
      },
      "execution_count": 54,
      "outputs": [
        {
          "output_type": "stream",
          "name": "stdout",
          "text": [
            "Cantidad vendida: 2016-01-20: 53132 unidades\n"
          ]
        }
      ]
    }
  ]
}