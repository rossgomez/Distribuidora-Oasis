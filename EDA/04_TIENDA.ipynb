{
 "cells": [
  {
   "cell_type": "code",
   "execution_count": 1,
   "metadata": {},
   "outputs": [],
   "source": [
    "\n",
    "#carga de librerias\n",
    "import pandas as pd\n"
   ]
  },
  {
   "cell_type": "code",
   "execution_count": 2,
   "metadata": {},
   "outputs": [],
   "source": [
    "import pandas as pd\n",
    "\n",
    "# Se lee el archivo a analizar\n",
    "df_inventario_final = pd.read_csv(\"DataSet/EndInvFINAL12312016.csv\")\n",
    "\n",
    "# Seleccionar las columnas 'Store' y 'City'\n",
    "df_tiendas_filtered = df_inventario_final[['Store', 'City']]\n",
    "\n",
    "# Eliminar duplicados\n",
    "df_tiendas_filtered = df_tiendas_filtered.drop_duplicates()\n",
    "\n",
    "# Cambiar los nombres de las columnas\n",
    "df_tiendas_filtered = df_tiendas_filtered.rename(columns={'Store': 'TiendaId', 'City': 'Ciudad'})\n",
    "\n",
    "# Modificar el nombre de la TiendaId 40\n",
    "df_tiendas_filtered.loc[df_tiendas_filtered['TiendaId'] == 46, 'Ciudad'] = 'TYWARDREATH'\n",
    "\n",
    "# Grabar archivo\n",
    "df_tiendas_filtered.to_csv('DataSetFiltrados/TIENDA.csv', index=False)\n"
   ]
  }
 ],
 "metadata": {
  "kernelspec": {
   "display_name": "Python 3",
   "language": "python",
   "name": "python3"
  },
  "language_info": {
   "codemirror_mode": {
    "name": "ipython",
    "version": 3
   },
   "file_extension": ".py",
   "mimetype": "text/x-python",
   "name": "python",
   "nbconvert_exporter": "python",
   "pygments_lexer": "ipython3",
   "version": "3.12.3"
  }
 },
 "nbformat": 4,
 "nbformat_minor": 2
}
