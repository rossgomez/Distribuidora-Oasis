{
 "cells": [
  {
   "cell_type": "code",
   "execution_count": 1,
   "metadata": {},
   "outputs": [],
   "source": [
    "\n",
    "#carga de librerias\n",
    "import pandas as pd\n",
    "\n"
   ]
  },
  {
   "cell_type": "code",
   "execution_count": 2,
   "metadata": {},
   "outputs": [],
   "source": [
    "# se lee el archivo a analizar\n",
    "df_inventario_final = pd.read_csv(\"DataSetFiltrados/INVENTARIO_FINAL.csv\")\n",
    "\n",
    "# Selecciono columnas\n",
    "df_inventario_final_selected = df_inventario_final[['InventarioID', 'TiendaID', 'ProductoID', 'Stock', 'Fecha_fin']]\n",
    "\n",
    "# Grabo archivo\n",
    "df_inventario_final_selected.to_csv('DataSetFiltrados/INVENTARIO_FINAL.csv', index=False)"
   ]
  }
 ],
 "metadata": {
  "kernelspec": {
   "display_name": "Python 3",
   "language": "python",
   "name": "python3"
  },
  "language_info": {
   "codemirror_mode": {
    "name": "ipython",
    "version": 3
   },
   "file_extension": ".py",
   "mimetype": "text/x-python",
   "name": "python",
   "nbconvert_exporter": "python",
   "pygments_lexer": "ipython3",
   "version": "3.12.3"
  }
 },
 "nbformat": 4,
 "nbformat_minor": 2
}
