{
 "cells": [
  {
   "cell_type": "code",
   "execution_count": 5,
   "metadata": {},
   "outputs": [],
   "source": [
    "\n",
    "#carga de librerias\n",
    "import pandas as pd\n",
    "\n"
   ]
  },
  {
   "cell_type": "code",
   "execution_count": 6,
   "metadata": {},
   "outputs": [],
   "source": [
    "# se lee el archivo a analizar\n",
    "df_ventas = pd.read_csv(\"DataSetFiltrados/VENTA.csv\")\n",
    "\n",
    "#Le sumo 1 a cada registro de VentaId para que comience con 1 y no con 0\n",
    "df_ventas['VentaID'] += 1\n",
    "\n",
    "# Selecciono las columnas para cambiar el orden\n",
    "df_tiendas_selected = df_ventas[['VentaID', 'ProductoID', 'TiendaID', 'Cantidad', 'Precio_venta', 'Precio_total', 'Impuesto', 'Fecha_venta']]\n",
    "\n",
    "# Grabo archivo\n",
    "df_tiendas_selected.to_csv('DataSetFiltrados/VENTA.csv', index=False)"
   ]
  }
 ],
 "metadata": {
  "kernelspec": {
   "display_name": "Python 3",
   "language": "python",
   "name": "python3"
  },
  "language_info": {
   "codemirror_mode": {
    "name": "ipython",
    "version": 3
   },
   "file_extension": ".py",
   "mimetype": "text/x-python",
   "name": "python",
   "nbconvert_exporter": "python",
   "pygments_lexer": "ipython3",
   "version": "3.12.3"
  }
 },
 "nbformat": 4,
 "nbformat_minor": 2
}
